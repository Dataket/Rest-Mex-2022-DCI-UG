{
 "cells": [
  {
   "cell_type": "markdown",
   "metadata": {},
   "source": [
    "## Stars classification.\n",
    "\n",
    "Possible values:\n",
    "1. **1** star\n",
    "2. **2** stars\n",
    "3. **3** stars\n",
    "4. **4** stars\n",
    "5. **5** stars"
   ]
  },
  {
   "cell_type": "code",
   "execution_count": 1,
   "metadata": {},
   "outputs": [],
   "source": [
    "from transformers import pipeline # To create classifier\n",
    "import pandas as pd # To read data\n",
    "import tensorflow as tf # To create model\n",
    "from tqdm.auto import tqdm # To show progress\n",
    "from torch.utils.data import Dataset # To create dataset\n",
    "import torch # To create model\n",
    "import matplotlib.pyplot as plt # To plot\n",
    "import numpy as np # To perform calculations"
   ]
  },
  {
   "cell_type": "code",
   "execution_count": 2,
   "metadata": {},
   "outputs": [],
   "source": [
    "# Load the model\n",
    "classifier = pipeline(\"text-classification\",\n",
    "                    model = \"nlptown/bert-base-multilingual-uncased-sentiment\",\n",
    "                    device = 0, framework = \"pt\")"
   ]
  },
  {
   "cell_type": "code",
   "execution_count": 3,
   "metadata": {},
   "outputs": [
    {
     "data": {
      "text/plain": [
       "[{'label': '3 stars', 'score': 0.3536396622657776}]"
      ]
     },
     "execution_count": 3,
     "metadata": {},
     "output_type": "execute_result"
    }
   ],
   "source": [
    "# Example in spanish\n",
    "text = \"Te odio un poco\"\n",
    "\n",
    "classifier(text)"
   ]
  },
  {
   "cell_type": "code",
   "execution_count": 4,
   "metadata": {},
   "outputs": [
    {
     "name": "stdout",
     "output_type": "stream",
     "text": [
      "30212\n"
     ]
    },
    {
     "data": {
      "text/html": [
       "<div>\n",
       "<style scoped>\n",
       "    .dataframe tbody tr th:only-of-type {\n",
       "        vertical-align: middle;\n",
       "    }\n",
       "\n",
       "    .dataframe tbody tr th {\n",
       "        vertical-align: top;\n",
       "    }\n",
       "\n",
       "    .dataframe thead th {\n",
       "        text-align: right;\n",
       "    }\n",
       "</style>\n",
       "<table border=\"1\" class=\"dataframe\">\n",
       "  <thead>\n",
       "    <tr style=\"text-align: right;\">\n",
       "      <th></th>\n",
       "      <th>Title</th>\n",
       "      <th>Opinion</th>\n",
       "      <th>Polarity</th>\n",
       "      <th>Attraction</th>\n",
       "    </tr>\n",
       "  </thead>\n",
       "  <tbody>\n",
       "    <tr>\n",
       "      <th>0</th>\n",
       "      <td>Pésimo lugar</td>\n",
       "      <td>Piensen dos veces antes de ir a este hotel, te...</td>\n",
       "      <td>1.0</td>\n",
       "      <td>Hotel</td>\n",
       "    </tr>\n",
       "    <tr>\n",
       "      <th>1</th>\n",
       "      <td>No vayas a lugar de Eddie</td>\n",
       "      <td>Cuatro de nosotros fuimos recientemente a Eddi...</td>\n",
       "      <td>1.0</td>\n",
       "      <td>Restaurant</td>\n",
       "    </tr>\n",
       "    <tr>\n",
       "      <th>2</th>\n",
       "      <td>Mala relación calidad-precio</td>\n",
       "      <td>seguiré corta y simple: limpieza\\n- bad. Tengo...</td>\n",
       "      <td>1.0</td>\n",
       "      <td>Hotel</td>\n",
       "    </tr>\n",
       "  </tbody>\n",
       "</table>\n",
       "</div>"
      ],
      "text/plain": [
       "                          Title  \\\n",
       "0                  Pésimo lugar   \n",
       "1     No vayas a lugar de Eddie   \n",
       "2  Mala relación calidad-precio   \n",
       "\n",
       "                                             Opinion  Polarity  Attraction  \n",
       "0  Piensen dos veces antes de ir a este hotel, te...       1.0       Hotel  \n",
       "1  Cuatro de nosotros fuimos recientemente a Eddi...       1.0  Restaurant  \n",
       "2  seguiré corta y simple: limpieza\\n- bad. Tengo...       1.0       Hotel  "
      ]
     },
     "execution_count": 4,
     "metadata": {},
     "output_type": "execute_result"
    }
   ],
   "source": [
    "# Load whole dataset\n",
    "test_set = pd.read_excel(\"data/train_sentiment_analysis.xlsx\")\n",
    "\n",
    "print(len(test_set))\n",
    "test_set.head(3)"
   ]
  },
  {
   "cell_type": "code",
   "execution_count": 5,
   "metadata": {},
   "outputs": [
    {
     "name": "stderr",
     "output_type": "stream",
     "text": [
      "[nltk_data] Downloading package stopwords to\n",
      "[nltk_data]     C:\\Users\\missa\\AppData\\Roaming\\nltk_data...\n",
      "[nltk_data]   Package stopwords is already up-to-date!\n",
      "[nltk_data] Downloading package punkt to\n",
      "[nltk_data]     C:\\Users\\missa\\AppData\\Roaming\\nltk_data...\n",
      "[nltk_data]   Package punkt is already up-to-date!\n"
     ]
    }
   ],
   "source": [
    "import nltk\n",
    "from nltk.corpus import stopwords\n",
    "nltk.download('stopwords')\n",
    "nltk.download('punkt')\n",
    "from nltk.tokenize import word_tokenize\n",
    "from textblob import TextBlob"
   ]
  },
  {
   "cell_type": "code",
   "execution_count": 6,
   "metadata": {},
   "outputs": [],
   "source": [
    "def removeStopwords( texto):\n",
    "    blob = TextBlob(texto).words\n",
    "    outputlist = [word for word in blob if word not in stopwords.words('spanish')]\n",
    "    return(' '.join(word for word in outputlist))"
   ]
  },
  {
   "cell_type": "code",
   "execution_count": 7,
   "metadata": {},
   "outputs": [
    {
     "name": "stderr",
     "output_type": "stream",
     "text": [
      "100%|██████████| 30212/30212 [00:01<00:00, 25412.48it/s]\n"
     ]
    }
   ],
   "source": [
    "# Save review word count\n",
    "n_words = []\n",
    "\n",
    "for id in tqdm(test_set.index):\n",
    "    # Merge Title and Opinion\n",
    "    test_set.at[id, 'Opinion'] = str(test_set.at[id, 'Title']) \\\n",
    "        + \". \" + str(test_set.at[id, 'Opinion'])\n",
    "    # opinion = removeStopwords(test_set.at[id, 'Opinion'])\n",
    "    opinion = test_set.at[id, 'Opinion']\n",
    "    test_set.at[id, 'Opinion'] = opinion\n",
    "    n_words.append(len(opinion.split()))\n",
    "\n",
    "    # Truncate to max length of 280 words\n",
    "    if len(opinion.split()) > 280:\n",
    "        test_set.at[id, 'Opinion'] = ' '.join(opinion.split()[:280])\n",
    "\n",
    "# Remove Title column\n",
    "test_set.drop(columns=['Title'], inplace=True)"
   ]
  },
  {
   "cell_type": "code",
   "execution_count": 8,
   "metadata": {},
   "outputs": [
    {
     "name": "stdout",
     "output_type": "stream",
     "text": [
      "2457\n",
      "27747\n"
     ]
    }
   ],
   "source": [
    "print(len([word for word in n_words if word > 280])) # Words that are too long\n",
    "print(len([word for word in n_words if word < 280]))"
   ]
  },
  {
   "cell_type": "code",
   "execution_count": 9,
   "metadata": {},
   "outputs": [
    {
     "data": {
      "text/html": [
       "<div>\n",
       "<style scoped>\n",
       "    .dataframe tbody tr th:only-of-type {\n",
       "        vertical-align: middle;\n",
       "    }\n",
       "\n",
       "    .dataframe tbody tr th {\n",
       "        vertical-align: top;\n",
       "    }\n",
       "\n",
       "    .dataframe thead th {\n",
       "        text-align: right;\n",
       "    }\n",
       "</style>\n",
       "<table border=\"1\" class=\"dataframe\">\n",
       "  <thead>\n",
       "    <tr style=\"text-align: right;\">\n",
       "      <th></th>\n",
       "      <th>Opinion</th>\n",
       "      <th>Polarity</th>\n",
       "      <th>Attraction</th>\n",
       "    </tr>\n",
       "  </thead>\n",
       "  <tbody>\n",
       "    <tr>\n",
       "      <th>0</th>\n",
       "      <td>Pésimo lugar. Piensen dos veces antes de ir a ...</td>\n",
       "      <td>1.0</td>\n",
       "      <td>Hotel</td>\n",
       "    </tr>\n",
       "    <tr>\n",
       "      <th>1</th>\n",
       "      <td>No vayas a lugar de Eddie. Cuatro de nosotros ...</td>\n",
       "      <td>1.0</td>\n",
       "      <td>Restaurant</td>\n",
       "    </tr>\n",
       "    <tr>\n",
       "      <th>2</th>\n",
       "      <td>Mala relación calidad-precio. seguiré corta y ...</td>\n",
       "      <td>1.0</td>\n",
       "      <td>Hotel</td>\n",
       "    </tr>\n",
       "    <tr>\n",
       "      <th>3</th>\n",
       "      <td>Minusválido? ¡No te alojes aquí!. Al reservar ...</td>\n",
       "      <td>1.0</td>\n",
       "      <td>Hotel</td>\n",
       "    </tr>\n",
       "    <tr>\n",
       "      <th>4</th>\n",
       "      <td>Es una porqueria no pierdan su tiempo. No pier...</td>\n",
       "      <td>1.0</td>\n",
       "      <td>Hotel</td>\n",
       "    </tr>\n",
       "  </tbody>\n",
       "</table>\n",
       "</div>"
      ],
      "text/plain": [
       "                                             Opinion  Polarity  Attraction\n",
       "0  Pésimo lugar. Piensen dos veces antes de ir a ...       1.0       Hotel\n",
       "1  No vayas a lugar de Eddie. Cuatro de nosotros ...       1.0  Restaurant\n",
       "2  Mala relación calidad-precio. seguiré corta y ...       1.0       Hotel\n",
       "3  Minusválido? ¡No te alojes aquí!. Al reservar ...       1.0       Hotel\n",
       "4  Es una porqueria no pierdan su tiempo. No pier...       1.0       Hotel"
      ]
     },
     "execution_count": 9,
     "metadata": {},
     "output_type": "execute_result"
    }
   ],
   "source": [
    "# New dataset structure\n",
    "test_set.head(5)"
   ]
  },
  {
   "cell_type": "code",
   "execution_count": 10,
   "metadata": {},
   "outputs": [],
   "source": [
    "# True labels\n",
    "x = list(test_set['Polarity'])\n",
    "\n",
    "# Text to predict from\n",
    "data = list(test_set['Opinion'])"
   ]
  },
  {
   "cell_type": "code",
   "execution_count": 11,
   "metadata": {},
   "outputs": [],
   "source": [
    "# Create dataset class\n",
    "class MyDataset(Dataset):\n",
    "    def __init__(self, data):\n",
    "        self.data = data\n",
    "\n",
    "    def __len__(self):\n",
    "        return len(self.data)\n",
    "\n",
    "    def __getitem__(self, i):\n",
    "        return self.data[i]\n",
    "\n",
    "dataset = MyDataset(data)"
   ]
  },
  {
   "cell_type": "code",
   "execution_count": 29,
   "metadata": {},
   "outputs": [
    {
     "name": "stderr",
     "output_type": "stream",
     "text": [
      "100%|██████████| 30212/30212 [06:28<00:00, 77.67it/s] \n"
     ]
    }
   ],
   "source": [
    "# Predict and show progress bar\n",
    "y = []\n",
    "for out in tqdm(classifier(dataset, batch_size = 64), total=len(dataset)):\n",
    "    y.append(out)"
   ]
  },
  {
   "cell_type": "code",
   "execution_count": 30,
   "metadata": {},
   "outputs": [
    {
     "data": {
      "text/plain": [
       "'NVIDIA GeForce RTX 3060 Laptop GPU'"
      ]
     },
     "execution_count": 30,
     "metadata": {},
     "output_type": "execute_result"
    }
   ],
   "source": [
    "torch.cuda.get_device_name(0)"
   ]
  },
  {
   "cell_type": "code",
   "execution_count": 31,
   "metadata": {},
   "outputs": [
    {
     "data": {
      "text/plain": [
       "'2 stars'"
      ]
     },
     "execution_count": 31,
     "metadata": {},
     "output_type": "execute_result"
    }
   ],
   "source": [
    "# Free gpu memory\n",
    "torch.cuda.empty_cache()\n",
    "\n",
    "# Print example\n",
    "y[100]['label']"
   ]
  },
  {
   "cell_type": "code",
   "execution_count": 15,
   "metadata": {},
   "outputs": [],
   "source": [
    "# Label to integer\n",
    "stars2num = {'1 star': 1, '2 stars': 2, '3 stars': 3,\n",
    "             '4 stars': 4, '5 stars': 5}\n",
    "\n",
    "# Predictions\n",
    "y_hat = []\n",
    "for pred in y:\n",
    "    y_hat.append(stars2num[pred['label']])"
   ]
  },
  {
   "cell_type": "code",
   "execution_count": 16,
   "metadata": {},
   "outputs": [],
   "source": [
    "# Mean absolute error\n",
    "def get_mae(y, y_hat):\n",
    "    return sum(abs(y - y_hat)) / len(y)\n",
    "\n",
    "# Accuracy\n",
    "def get_accuracy(y, y_hat):\n",
    "    return sum([1 if y[i] == y_hat[i] else 0 for i in range(len(y))]) / len(y)\n",
    "\n",
    "mae = get_mae(np.array(x), np.array(y_hat))\n",
    "acc = get_accuracy(np.array(x), np.array(y_hat))"
   ]
  },
  {
   "cell_type": "code",
   "execution_count": 18,
   "metadata": {},
   "outputs": [
    {
     "name": "stdout",
     "output_type": "stream",
     "text": [
      "MAE: 0.321\n",
      "MAE contribution: 0.379\n",
      "Accuracy: 0.730\n"
     ]
    }
   ],
   "source": [
    "# Without nltk\n",
    "print(f'MAE: {mae:.3f}')\n",
    "print(f'MAE contribution: {(1/(1+mae))/2:.3f}')\n",
    "print(f'Accuracy: {acc:.3f}')"
   ]
  },
  {
   "cell_type": "code",
   "execution_count": 19,
   "metadata": {},
   "outputs": [],
   "source": [
    "# Confusion matrix\n",
    "from sklearn.metrics import confusion_matrix\n",
    "import seaborn as sns\n",
    "from matplotlib.colors import LogNorm\n",
    "\n",
    "cm = confusion_matrix(x, y_hat)"
   ]
  },
  {
   "cell_type": "code",
   "execution_count": 20,
   "metadata": {},
   "outputs": [
    {
     "data": {
      "text/plain": [
       "Text(0.5, 1.0, 'Confusion matrix')"
      ]
     },
     "execution_count": 20,
     "metadata": {},
     "output_type": "execute_result"
    },
    {
     "data": {
      "image/png": "[encoded data removed]",
      "text/plain": [
       "<Figure size 432x288 with 1 Axes>"
      ]
     },
     "metadata": {},
     "output_type": "display_data"
    }
   ],
   "source": [
    "df = pd.DataFrame(cm)\n",
    "\n",
    "sns.set(font_scale=1.4)\n",
    "sns.heatmap(df, annot=True, annot_kws={\"size\": 16},\n",
    "            cmap=\"Greens\", fmt='.1f',\n",
    "            cbar_kws={'label': 'ln(count)'}, cbar = False)\n",
    "\n",
    "# Colorbar\n",
    "plt.ylabel('Actual')\n",
    "plt.xlabel('Predicted')\n",
    "plt.title('Confusion matrix')"
   ]
  },
  {
   "cell_type": "code",
   "execution_count": 22,
   "metadata": {},
   "outputs": [
    {
     "data": {
      "text/plain": [
       "Text(0.5, 1.0, 'Confusion matrix')"
      ]
     },
     "execution_count": 22,
     "metadata": {},
     "output_type": "execute_result"
    },
    {
     "data": {
      "image/png": "[encoded data removed]",
      "text/plain": [
       "<Figure size 432x288 with 1 Axes>"
      ]
     },
     "metadata": {},
     "output_type": "display_data"
    }
   ],
   "source": [
    "# Without nltk\n",
    "df = pd.DataFrame(cm)\n",
    "\n",
    "sns.set(font_scale=1.4)\n",
    "sns.heatmap(df, annot=True, annot_kws={\"size\": 16},\n",
    "            cmap=\"Greens\", fmt='g', cbar_kws={'label': 'Count'},\n",
    "            norm = LogNorm(), cbar = False)\n",
    "\n",
    "# Colorbar\n",
    "plt.ylabel('Actual')\n",
    "plt.xlabel('Predicted')\n",
    "plt.title('Confusion matrix')"
   ]
  },
  {
   "cell_type": "markdown",
   "metadata": {},
   "source": [
    "## Atraction classification.\n",
    "\n",
    "Possible values:\n",
    "1. Hotel.\n",
    "2. Restaurant.\n",
    "3. Atractive."
   ]
  },
  {
   "cell_type": "code",
   "execution_count": 6,
   "metadata": {},
   "outputs": [],
   "source": [
    "# Delete past classifier\n",
    "# del classifier, dataset\n",
    "\n",
    "# Load new model (zero-shot)\n",
    "classifier = pipeline(\"zero-shot-classification\",\n",
    "                    model = \"MoritzLaurer/mDeBERTa-v3-base-mnli-xnli\",\n",
    "                    device = 0, framework = \"pt\")"
   ]
  },
  {
   "cell_type": "code",
   "execution_count": 7,
   "metadata": {},
   "outputs": [
    {
     "name": "stdout",
     "output_type": "stream",
     "text": [
      "Lale: Hotel. Count: 16565\n",
      "Lale: Restaurant. Count: 8450\n",
      "Lale: Attractive. Count: 5197\n"
     ]
    }
   ],
   "source": [
    "for label in test_set['Attraction'].unique():\n",
    "    print(f'Lale: {label}. Count: {test_set[test_set[\"Attraction\"] == label].shape[0]}')"
   ]
  },
  {
   "cell_type": "code",
   "execution_count": 8,
   "metadata": {},
   "outputs": [
    {
     "data": {
      "text/html": [
       "<div>\n",
       "<style scoped>\n",
       "    .dataframe tbody tr th:only-of-type {\n",
       "        vertical-align: middle;\n",
       "    }\n",
       "\n",
       "    .dataframe tbody tr th {\n",
       "        vertical-align: top;\n",
       "    }\n",
       "\n",
       "    .dataframe thead th {\n",
       "        text-align: right;\n",
       "    }\n",
       "</style>\n",
       "<table border=\"1\" class=\"dataframe\">\n",
       "  <thead>\n",
       "    <tr style=\"text-align: right;\">\n",
       "      <th></th>\n",
       "      <th>Opinion</th>\n",
       "      <th>Polarity</th>\n",
       "      <th>Attraction</th>\n",
       "    </tr>\n",
       "  </thead>\n",
       "  <tbody>\n",
       "    <tr>\n",
       "      <th>467</th>\n",
       "      <td>¡Momias, demasiado impresionante!. Las momias ...</td>\n",
       "      <td>1.0</td>\n",
       "      <td>Attractive</td>\n",
       "    </tr>\n",
       "    <tr>\n",
       "      <th>468</th>\n",
       "      <td>Comida cara. Tienen carteles con comida cortid...</td>\n",
       "      <td>1.0</td>\n",
       "      <td>Attractive</td>\n",
       "    </tr>\n",
       "    <tr>\n",
       "      <th>469</th>\n",
       "      <td>No coman ahí. Creo que es muy insalubre, hay b...</td>\n",
       "      <td>1.0</td>\n",
       "      <td>Attractive</td>\n",
       "    </tr>\n",
       "    <tr>\n",
       "      <th>470</th>\n",
       "      <td>Momificado. Para mí gusto no vale la pena... t...</td>\n",
       "      <td>1.0</td>\n",
       "      <td>Attractive</td>\n",
       "    </tr>\n",
       "    <tr>\n",
       "      <th>471</th>\n",
       "      <td>Incómodo y cero romántico. Es un lugar poco in...</td>\n",
       "      <td>1.0</td>\n",
       "      <td>Attractive</td>\n",
       "    </tr>\n",
       "  </tbody>\n",
       "</table>\n",
       "</div>"
      ],
      "text/plain": [
       "                                               Opinion  Polarity  Attraction\n",
       "467  ¡Momias, demasiado impresionante!. Las momias ...       1.0  Attractive\n",
       "468  Comida cara. Tienen carteles con comida cortid...       1.0  Attractive\n",
       "469  No coman ahí. Creo que es muy insalubre, hay b...       1.0  Attractive\n",
       "470  Momificado. Para mí gusto no vale la pena... t...       1.0  Attractive\n",
       "471  Incómodo y cero romántico. Es un lugar poco in...       1.0  Attractive"
      ]
     },
     "execution_count": 8,
     "metadata": {},
     "output_type": "execute_result"
    }
   ],
   "source": [
    "test_set[test_set[\"Attraction\"] == 'Attractive'].head(5)"
   ]
  },
  {
   "cell_type": "markdown",
   "metadata": {},
   "source": [
    "    -    Nota: Creo que los atractivos con la etiqueta de \"Atractive\" vienen del dataset del año pasado."
   ]
  },
  {
   "cell_type": "code",
   "execution_count": 9,
   "metadata": {},
   "outputs": [],
   "source": [
    "# Rename Attractive -> Tourist attraction\n",
    "test_set.loc[test_set[\"Attraction\"] == 'Attractive', \"Attraction\"] = 'Tourist attraction'"
   ]
  },
  {
   "cell_type": "code",
   "execution_count": 13,
   "metadata": {},
   "outputs": [
    {
     "data": {
      "text/html": [
       "<div>\n",
       "<style scoped>\n",
       "    .dataframe tbody tr th:only-of-type {\n",
       "        vertical-align: middle;\n",
       "    }\n",
       "\n",
       "    .dataframe tbody tr th {\n",
       "        vertical-align: top;\n",
       "    }\n",
       "\n",
       "    .dataframe thead th {\n",
       "        text-align: right;\n",
       "    }\n",
       "</style>\n",
       "<table border=\"1\" class=\"dataframe\">\n",
       "  <thead>\n",
       "    <tr style=\"text-align: right;\">\n",
       "      <th></th>\n",
       "      <th>Opinion</th>\n",
       "      <th>Polarity</th>\n",
       "      <th>Attraction</th>\n",
       "    </tr>\n",
       "  </thead>\n",
       "  <tbody>\n",
       "    <tr>\n",
       "      <th>467</th>\n",
       "      <td>¡Momias, demasiado impresionante!. Las momias ...</td>\n",
       "      <td>1.0</td>\n",
       "      <td>Tourist attraction</td>\n",
       "    </tr>\n",
       "    <tr>\n",
       "      <th>468</th>\n",
       "      <td>Comida cara. Tienen carteles con comida cortid...</td>\n",
       "      <td>1.0</td>\n",
       "      <td>Tourist attraction</td>\n",
       "    </tr>\n",
       "    <tr>\n",
       "      <th>469</th>\n",
       "      <td>No coman ahí. Creo que es muy insalubre, hay b...</td>\n",
       "      <td>1.0</td>\n",
       "      <td>Tourist attraction</td>\n",
       "    </tr>\n",
       "  </tbody>\n",
       "</table>\n",
       "</div>"
      ],
      "text/plain": [
       "                                               Opinion  Polarity  \\\n",
       "467  ¡Momias, demasiado impresionante!. Las momias ...       1.0   \n",
       "468  Comida cara. Tienen carteles con comida cortid...       1.0   \n",
       "469  No coman ahí. Creo que es muy insalubre, hay b...       1.0   \n",
       "\n",
       "             Attraction  \n",
       "467  Tourist attraction  \n",
       "468  Tourist attraction  \n",
       "469  Tourist attraction  "
      ]
     },
     "execution_count": 13,
     "metadata": {},
     "output_type": "execute_result"
    }
   ],
   "source": [
    "test_set[test_set[\"Attraction\"] == 'Tourist attraction'].head(3)"
   ]
  },
  {
   "cell_type": "code",
   "execution_count": 14,
   "metadata": {},
   "outputs": [
    {
     "data": {
      "text/plain": [
       "{'sequence': 'Las sabanas estaban sucias, pero las habitaciones estaban muy bien',\n",
       " 'labels': ['Hotel', 'Tourist attraction', 'Restaurant'],\n",
       " 'scores': [0.8496659398078918, 0.12080366164445877, 0.029530402272939682]}"
      ]
     },
     "execution_count": 14,
     "metadata": {},
     "output_type": "execute_result"
    }
   ],
   "source": [
    "# Example\n",
    "labels = ['Hotel', 'Restaurant', 'Tourist attraction']\n",
    "test = 'Las sabanas estaban sucias, pero las habitaciones estaban muy bien'\n",
    "\n",
    "classifier(test, candidate_labels = labels)"
   ]
  },
  {
   "cell_type": "code",
   "execution_count": 15,
   "metadata": {},
   "outputs": [],
   "source": [
    "# True labels\n",
    "x = list(test_set['Attraction'])\n",
    "\n",
    "# Text to predict from\n",
    "data = list(test_set['Opinion'])"
   ]
  },
  {
   "cell_type": "code",
   "execution_count": 16,
   "metadata": {},
   "outputs": [],
   "source": [
    "# Create dataset class\n",
    "class MyDataset(Dataset):\n",
    "    def __init__(self, data):\n",
    "        self.data = data\n",
    "\n",
    "    def __len__(self):\n",
    "        return len(self.data)\n",
    "\n",
    "    def __getitem__(self, i):\n",
    "        return self.data[i]\n",
    "\n",
    "dataset = MyDataset(data)"
   ]
  },
  {
   "cell_type": "code",
   "execution_count": 17,
   "metadata": {},
   "outputs": [
    {
     "name": "stderr",
     "output_type": "stream",
     "text": [
      "100%|██████████| 30212/30212 [42:16<00:00, 11.91it/s]\n"
     ]
    }
   ],
   "source": [
    "# Predict and show progress bar\n",
    "y = []\n",
    "for out in tqdm(classifier(dataset,\n",
    "                batch_size = 32,\n",
    "                candidate_labels = labels), total=len(dataset)):\n",
    "    y.append(out)"
   ]
  },
  {
   "cell_type": "code",
   "execution_count": 27,
   "metadata": {},
   "outputs": [
    {
     "data": {
      "text/plain": [
       "[{'sequence': 'Pésimo lugar. Piensen dos veces antes de ir a este hotel, te molestan por todo, mi hijo de seis años traía un inflable de tamaño pequeño y nos decían que era muy grande ahí lo veían llorando y aún así seguían molestando, traíamos una hielera que parece bolsa nada de grande o con ruedas o de ese estilo y Tmb molestándonos las bebidas carísimas y ni agua te dejan tener en la alberca y no hay ni huéspedes en el hotel esto es en el mayan palace el grand mayan pude ser un poco mejor pero la verdad jamás vuelvo a venir a este lugar, te invitan a una cena show de mil pesos por persona y la cena es hoy dogs, las habitaciones nada fuera de lo normal',\n",
       "  'labels': ['Tourist attraction', 'Hotel', 'Restaurant'],\n",
       "  'scores': [0.565515398979187, 0.24745117127895355, 0.18703341484069824]},\n",
       " {'sequence': \"No vayas a lugar de Eddie. Cuatro de nosotros fuimos recientemente a Eddie's Place. El servicio era terrible a pesar del hecho de que Eddie y personalmente vino a nuestra mesa con su copa de vino. Tuvimos que pedir: agua, bebidas, menús y cubiertos. La comida no estaba mal, pero estaba tibio incluso después de ser enviado de vuelta. La gente en la mesa detrás de nosotros nos fuimos antes de comer. Cuando nos quejamos de la duración para conseguir nuestra comida, Eddie nos informó que habían sido 40 minutos y que era el tiempo promedio para conseguir comida. Indicó además dijo que no se quejan tan ruidoso. Otras mesas que venía y nos sentaron después nos dieron su comida antes que nosotros.\",\n",
       "  'labels': ['Restaurant', 'Tourist attraction', 'Hotel'],\n",
       "  'scores': [0.8265421390533447, 0.09087672829627991, 0.08258119225502014]},\n",
       " {'sequence': 'Mala relación calidad-precio. seguiré corta y simple: limpieza\\n- bad. Tengo que insistir para ellos para limpiar el suelo y cambian las sábanas de la cama. rellenaba de kits, albornoces de tocador es aparentemente por petición.\\nComida - así así. Esperaba calidad del Hard Rock Cafe. No hacer mis errores - te decepcionará mucho.\\nInternet - no funcionaba durante dos días.',\n",
       "  'labels': ['Restaurant', 'Hotel', 'Tourist attraction'],\n",
       "  'scores': [0.9911404252052307, 0.008396192453801632, 0.0004633733187802136]},\n",
       " {'sequence': 'Minusválido? ¡No te alojes aquí!. Al reservar un hotel con multipropiedad Mayan de grupo que les dije que necesitaba una habitación accesible ruedas con rollo en la ducha. No hay problema que era me dijeron y nos dirigimos a reservar. Entonces confirmaron que ya estos productos de hecho correcto directamente con la recepción del conserje a través del correo electrónico en el Mayan Palace. Dos veces, según me dijeron que era un hecho. Imaginar nuestra sorpresa cuando llegamos en nuestra habitación para encontrar el bloque de baño no lo suficientemente amplia para ruedas. Nos ir a la recepción de conserje, que decir que sabía nada acerca de los correos electrónicos, y son nos dijeron que están a sólo 2 ruedas las habitaciones accesibles en complejo acaba y que si los dos estaban ocupadas. Después de quejarnos mucho una mujer en el mostrador dice que regresáramos después de 3 horas como una pareja son vacating su suite y necesita ser limpiado. Cuando volvamos en tres horas para encontrar ella ido, pero una vez más después de protestar, que se la habitación accesible ruedas. Entonces nos descubrir la ducha roll-in de papel higiénico a la habitación es en realidad una bañera muy profunda entornado con azulejos gorditos y la bañera dentro está una silla frágiles que pueden ir o la salida. 2 Semanas de mi marido lifting me a bañera cada mañana. Buena cosa hay un gimnasio gratis allí, así que podía también él doloridas volver!',\n",
       "  'labels': ['Hotel', 'Tourist attraction', 'Restaurant'],\n",
       "  'scores': [0.9754723310470581, 0.020259611308574677, 0.004268092103302479]},\n",
       " {'sequence': 'Es una porqueria no pierdan su tiempo. No pierdan su tiempo ni dinero, venimos porque teníamos una boda aquí mismo, el complejo es tan grande que tienes que tomar carritos de golf, aveces tardan hasta 30 minutos en llegar, es decir al día puedes perder hasta 2 horas al día en eso, por si fuera poco, el carrito no se va hasta que no se llene, si quieres ir a la playa, tendrás que ir 40 minutos antes y eso que estamos hospedados en el Grand Lux que se supone que es el mas cerca de la playa.\\n\\nPodria seguir, pero ya no tiene caso, porfavor vengan, no pierdan el tiempo ni su dinero.',\n",
       "  'labels': ['Hotel', 'Tourist attraction', 'Restaurant'],\n",
       "  'scores': [0.7663694620132446, 0.23082390427589417, 0.0028066968079656363]}]"
      ]
     },
     "execution_count": 27,
     "metadata": {},
     "output_type": "execute_result"
    }
   ],
   "source": [
    "# Free gpu memory\n",
    "torch.cuda.empty_cache()\n",
    "\n",
    "# Print example\n",
    "y[0:5]"
   ]
  },
  {
   "cell_type": "code",
   "execution_count": 28,
   "metadata": {},
   "outputs": [],
   "source": [
    "y_pred = []\n",
    "scores = []\n",
    "\n",
    "for pred in y:\n",
    "    y_pred.append(pred['labels'])\n",
    "    scores.append(pred['scores'])"
   ]
  },
  {
   "cell_type": "code",
   "execution_count": 29,
   "metadata": {},
   "outputs": [
    {
     "data": {
      "text/html": [
       "<div>\n",
       "<style scoped>\n",
       "    .dataframe tbody tr th:only-of-type {\n",
       "        vertical-align: middle;\n",
       "    }\n",
       "\n",
       "    .dataframe tbody tr th {\n",
       "        vertical-align: top;\n",
       "    }\n",
       "\n",
       "    .dataframe thead th {\n",
       "        text-align: right;\n",
       "    }\n",
       "</style>\n",
       "<table border=\"1\" class=\"dataframe\">\n",
       "  <thead>\n",
       "    <tr style=\"text-align: right;\">\n",
       "      <th></th>\n",
       "      <th>Opinion</th>\n",
       "      <th>Polarity</th>\n",
       "      <th>Attraction</th>\n",
       "      <th>Predicted</th>\n",
       "      <th>Scores</th>\n",
       "    </tr>\n",
       "  </thead>\n",
       "  <tbody>\n",
       "    <tr>\n",
       "      <th>0</th>\n",
       "      <td>Pésimo lugar. Piensen dos veces antes de ir a ...</td>\n",
       "      <td>1.0</td>\n",
       "      <td>Hotel</td>\n",
       "      <td>[Tourist attraction, Hotel, Restaurant]</td>\n",
       "      <td>[0.565515398979187, 0.24745117127895355, 0.187...</td>\n",
       "    </tr>\n",
       "    <tr>\n",
       "      <th>1</th>\n",
       "      <td>No vayas a lugar de Eddie. Cuatro de nosotros ...</td>\n",
       "      <td>1.0</td>\n",
       "      <td>Restaurant</td>\n",
       "      <td>[Restaurant, Tourist attraction, Hotel]</td>\n",
       "      <td>[0.8265421390533447, 0.09087672829627991, 0.08...</td>\n",
       "    </tr>\n",
       "    <tr>\n",
       "      <th>2</th>\n",
       "      <td>Mala relación calidad-precio. seguiré corta y ...</td>\n",
       "      <td>1.0</td>\n",
       "      <td>Hotel</td>\n",
       "      <td>[Restaurant, Hotel, Tourist attraction]</td>\n",
       "      <td>[0.9911404252052307, 0.008396192453801632, 0.0...</td>\n",
       "    </tr>\n",
       "  </tbody>\n",
       "</table>\n",
       "</div>"
      ],
      "text/plain": [
       "                                             Opinion  Polarity  Attraction  \\\n",
       "0  Pésimo lugar. Piensen dos veces antes de ir a ...       1.0       Hotel   \n",
       "1  No vayas a lugar de Eddie. Cuatro de nosotros ...       1.0  Restaurant   \n",
       "2  Mala relación calidad-precio. seguiré corta y ...       1.0       Hotel   \n",
       "\n",
       "                                 Predicted  \\\n",
       "0  [Tourist attraction, Hotel, Restaurant]   \n",
       "1  [Restaurant, Tourist attraction, Hotel]   \n",
       "2  [Restaurant, Hotel, Tourist attraction]   \n",
       "\n",
       "                                              Scores  \n",
       "0  [0.565515398979187, 0.24745117127895355, 0.187...  \n",
       "1  [0.8265421390533447, 0.09087672829627991, 0.08...  \n",
       "2  [0.9911404252052307, 0.008396192453801632, 0.0...  "
      ]
     },
     "execution_count": 29,
     "metadata": {},
     "output_type": "execute_result"
    }
   ],
   "source": [
    "test_set['Predicted'] = y_pred\n",
    "test_set['Scores'] = scores\n",
    "\n",
    "test_set.head(3)"
   ]
  },
  {
   "cell_type": "code",
   "execution_count": 31,
   "metadata": {},
   "outputs": [],
   "source": [
    "# Save results\n",
    "# test_set.to_csv('results/predict_attractive_results_newLabel.csv')"
   ]
  },
  {
   "cell_type": "code",
   "execution_count": 32,
   "metadata": {},
   "outputs": [],
   "source": [
    "y_hat = []\n",
    "for pred in y:\n",
    "    y_hat.append(pred['labels'][0])"
   ]
  },
  {
   "cell_type": "code",
   "execution_count": 33,
   "metadata": {},
   "outputs": [
    {
     "name": "stdout",
     "output_type": "stream",
     "text": [
      "Accuracy: 0.718\n"
     ]
    }
   ],
   "source": [
    "accuracy = 0\n",
    "\n",
    "for i in range(len(y_hat)):\n",
    "    if y_hat[i] == x[i]:\n",
    "        accuracy += 1\n",
    "\n",
    "accuracy /= len(y_hat)\n",
    "print(f'Accuracy: {accuracy:.3f}')"
   ]
  },
  {
   "cell_type": "code",
   "execution_count": 34,
   "metadata": {},
   "outputs": [
    {
     "name": "stdout",
     "output_type": "stream",
     "text": [
      "Tourist attraction F1: 0.644\n",
      "Hotel F1: 0.700\n",
      "Restaurant F1: 0.800\n",
      "Macro-F: 0.714\n",
      "Macro-F contribution: 0.357\n"
     ]
    }
   ],
   "source": [
    "def get_fscore(y, y_hat, label):\n",
    "    tp = 0\n",
    "    fp = 0\n",
    "    fn = 0\n",
    "    for i in range(len(y)):\n",
    "        if y[i] == label:\n",
    "            if y_hat[i] == label:\n",
    "                tp += 1\n",
    "            else:\n",
    "                fn += 1\n",
    "        else:\n",
    "            if y_hat[i] == label:\n",
    "                fp += 1\n",
    "    f1 = tp/(tp+(fp+fn)/2)\n",
    "    return f1\n",
    "\n",
    "def macro_f(y, y_hat):\n",
    "    f1_attractive = get_fscore(y, y_hat, 'Tourist attraction')\n",
    "    f1_hotel = get_fscore(y, y_hat, 'Hotel')\n",
    "    f1_restaurant = get_fscore(y, y_hat, 'Restaurant')\n",
    "\n",
    "    print(f'Tourist attraction F1: {f1_attractive:.3f}')\n",
    "    print(f'Hotel F1: {f1_hotel:.3f}')\n",
    "    print(f'Restaurant F1: {f1_restaurant:.3f}')\n",
    "    return (f1_attractive + f1_hotel + f1_restaurant) / 3\n",
    "\n",
    "mf = macro_f(x, y_hat)\n",
    "print(f'Macro-F: {mf:.3f}')\n",
    "print(f'Macro-F contribution: {mf/2:.3f}')"
   ]
  },
  {
   "cell_type": "code",
   "execution_count": 35,
   "metadata": {},
   "outputs": [],
   "source": [
    "label2num = {'Tourist attraction': 0, 'Hotel': 1, 'Restaurant': 2}\n",
    "x_num = [label2num[i] for i in x]\n",
    "y_hat_num = [label2num[i] for i in y_hat]"
   ]
  },
  {
   "cell_type": "code",
   "execution_count": 36,
   "metadata": {},
   "outputs": [],
   "source": [
    "# Confusion matrix\n",
    "from sklearn.metrics import confusion_matrix\n",
    "import seaborn as sns\n",
    "from matplotlib.colors import LogNorm\n",
    "\n",
    "cm = confusion_matrix(y_true= x_num,y_pred = y_hat_num)"
   ]
  },
  {
   "cell_type": "code",
   "execution_count": 37,
   "metadata": {},
   "outputs": [
    {
     "data": {
      "text/plain": [
       "Text(0.5, 1.0, 'Confusion matrix')"
      ]
     },
     "execution_count": 37,
     "metadata": {},
     "output_type": "execute_result"
    },
    {
     "data": {
      "image/png": "[encoded data removed]",
      "text/plain": [
       "<Figure size 432x288 with 1 Axes>"
      ]
     },
     "metadata": {},
     "output_type": "display_data"
    }
   ],
   "source": [
    "df = pd.DataFrame(cm)\n",
    "\n",
    "sns.set(font_scale=1.4)\n",
    "sns.heatmap(df, annot=True, annot_kws={\"size\": 16},\n",
    "            cmap=\"Greens\", fmt='g',\n",
    "            cbar_kws={'label': 'ln(count)'}, cbar = False)\n",
    "\n",
    "# Colorbar\n",
    "plt.xticks(ticks = [0.5, 1.5, 2.5], labels = ['Attractive', 'Hotel', 'Restaurant'])\n",
    "plt.yticks(ticks = [0.5, 1.5, 2.5], labels = ['Attractive', 'Hotel', 'Restaurant'])\n",
    "plt.ylabel('Actual')\n",
    "plt.xlabel('Predicted')\n",
    "plt.title('Confusion matrix')"
   ]
  },
  {
   "cell_type": "code",
   "execution_count": 38,
   "metadata": {},
   "outputs": [
    {
     "name": "stdout",
     "output_type": "stream",
     "text": [
      "Attractive: 10082\n"
     ]
    }
   ],
   "source": [
    "n_attractive = sum([1 if i == 0 else 0 for i in y_hat_num])\n",
    "print(f'Attractive: {n_attractive}')"
   ]
  },
  {
   "cell_type": "markdown",
   "metadata": {},
   "source": [
    "## Final results."
   ]
  },
  {
   "cell_type": "code",
   "execution_count": 40,
   "metadata": {},
   "outputs": [
    {
     "name": "stdout",
     "output_type": "stream",
     "text": [
      "Total score: 0.736\n"
     ]
    }
   ],
   "source": [
    "mae_contribution = 0.379\n",
    "macrof_contribution = 0.357\n",
    "\n",
    "print(f'Total score: {(mae_contribution + macrof_contribution):.3f}')"
   ]
  },
  {
   "cell_type": "code",
   "execution_count": 9,
   "metadata": {},
   "outputs": [
    {
     "name": "stdout",
     "output_type": "stream",
     "text": [
      "Hotel: 16565\n",
      "Restaurant: 8450\n",
      "Attractive: 5197\n"
     ]
    }
   ],
   "source": [
    "for clase in test_set['Attraction'].unique():\n",
    "    print(f'{clase}: {test_set[test_set[\"Attraction\"] == clase].shape[0]}')"
   ]
  },
  {
   "cell_type": "code",
   "execution_count": null,
   "metadata": {},
   "outputs": [],
   "source": []
  }
 ],
 "metadata": {
  "interpreter": {
   "hash": "916dbcbb3f70747c44a77c7bcd40155683ae19c65e1c03b4aa3499c5328201f1"
  },
  "kernelspec": {
   "display_name": "Python 3 (ipykernel)",
   "language": "python",
   "name": "python3"
  },
  "language_info": {
   "codemirror_mode": {
    "name": "ipython",
    "version": 3
   },
   "file_extension": ".py",
   "mimetype": "text/x-python",
   "name": "python",
   "nbconvert_exporter": "python",
   "pygments_lexer": "ipython3",
   "version": "3.9.12"
  }
 },
 "nbformat": 4,
 "nbformat_minor": 4
}
