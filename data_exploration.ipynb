{
 "cells": [
  {
   "cell_type": "markdown",
   "metadata": {},
   "source": [
    "Resources: \n",
    "\n",
    "1. [To translate or not to translate, best practices in non-English sentiment analysis](https://towardsdatascience.com/to-translate-or-not-to-translate-best-practices-in-non-english-sentiment-analysis-144a53613913)"
   ]
  },
  {
   "cell_type": "code",
   "execution_count": 1,
   "metadata": {},
   "outputs": [],
   "source": [
    "import pandas as pd # data processing, CSV file I/O (e.g. pd.read_csv)\n",
    "import matplotlib.pyplot as plt # plotting\n",
    "import numpy as np # linear algebra\n",
    "import seaborn as sns # visualization\n",
    "\n",
    "import sentence_transformers  # NLP Embeddings\n",
    "import umap  # Dimensionality reduction.\n",
    "from sklearn.model_selection import train_test_split # train/test split\n",
    "\n",
    "sns.set_theme() # set the plot style"
   ]
  },
  {
   "cell_type": "code",
   "execution_count": 3,
   "metadata": {},
   "outputs": [
    {
     "data": {
      "text/html": [
       "<div>\n",
       "<style scoped>\n",
       "    .dataframe tbody tr th:only-of-type {\n",
       "        vertical-align: middle;\n",
       "    }\n",
       "\n",
       "    .dataframe tbody tr th {\n",
       "        vertical-align: top;\n",
       "    }\n",
       "\n",
       "    .dataframe thead th {\n",
       "        text-align: right;\n",
       "    }\n",
       "</style>\n",
       "<table border=\"1\" class=\"dataframe\">\n",
       "  <thead>\n",
       "    <tr style=\"text-align: right;\">\n",
       "      <th></th>\n",
       "      <th>Title</th>\n",
       "      <th>Opinion</th>\n",
       "      <th>Polarity</th>\n",
       "      <th>2022</th>\n",
       "    </tr>\n",
       "  </thead>\n",
       "  <tbody>\n",
       "    <tr>\n",
       "      <th>0</th>\n",
       "      <td>Pésimo lugar</td>\n",
       "      <td>Piensen dos veces antes de ir a este hotel, te...</td>\n",
       "      <td>1.0</td>\n",
       "      <td>True</td>\n",
       "    </tr>\n",
       "    <tr>\n",
       "      <th>1</th>\n",
       "      <td>No vayas a lugar de Eddie</td>\n",
       "      <td>Cuatro de nosotros fuimos recientemente a Eddi...</td>\n",
       "      <td>1.0</td>\n",
       "      <td>True</td>\n",
       "    </tr>\n",
       "    <tr>\n",
       "      <th>2</th>\n",
       "      <td>Mala relación calidad-precio</td>\n",
       "      <td>seguiré corta y simple: limpieza\\n- bad. Tengo...</td>\n",
       "      <td>1.0</td>\n",
       "      <td>True</td>\n",
       "    </tr>\n",
       "    <tr>\n",
       "      <th>3</th>\n",
       "      <td>Minusválido? ¡No te alojes aquí!</td>\n",
       "      <td>Al reservar un hotel con multipropiedad Mayan ...</td>\n",
       "      <td>1.0</td>\n",
       "      <td>True</td>\n",
       "    </tr>\n",
       "    <tr>\n",
       "      <th>4</th>\n",
       "      <td>Es una porqueria no pierdan su tiempo</td>\n",
       "      <td>No pierdan su tiempo ni dinero, venimos porque...</td>\n",
       "      <td>1.0</td>\n",
       "      <td>True</td>\n",
       "    </tr>\n",
       "  </tbody>\n",
       "</table>\n",
       "</div>"
      ],
      "text/plain": [
       "                                   Title  \\\n",
       "0                           Pésimo lugar   \n",
       "1              No vayas a lugar de Eddie   \n",
       "2           Mala relación calidad-precio   \n",
       "3       Minusválido? ¡No te alojes aquí!   \n",
       "4  Es una porqueria no pierdan su tiempo   \n",
       "\n",
       "                                             Opinion  Polarity  2022  \n",
       "0  Piensen dos veces antes de ir a este hotel, te...       1.0  True  \n",
       "1  Cuatro de nosotros fuimos recientemente a Eddi...       1.0  True  \n",
       "2  seguiré corta y simple: limpieza\\n- bad. Tengo...       1.0  True  \n",
       "3  Al reservar un hotel con multipropiedad Mayan ...       1.0  True  \n",
       "4  No pierdan su tiempo ni dinero, venimos porque...       1.0  True  "
      ]
     },
     "execution_count": 3,
     "metadata": {},
     "output_type": "execute_result"
    }
   ],
   "source": [
    "# Read the data\n",
    "data = pd.read_excel('data/train_sentiment_analysis.xlsx')\n",
    "data.drop(columns=['Attraction'], inplace=True)\n",
    "data['2022'] = [True for i in range(len(data))]\n",
    "data.head()"
   ]
  },
  {
   "cell_type": "code",
   "execution_count": 4,
   "metadata": {},
   "outputs": [
    {
     "name": "stdout",
     "output_type": "stream",
     "text": [
      "547\n",
      "20936\n"
     ]
    }
   ],
   "source": [
    "print(len(data[data['Polarity'] == 1.0]))\n",
    "print(len(data[data['Polarity'] == 5.0]))"
   ]
  },
  {
   "cell_type": "code",
   "execution_count": 5,
   "metadata": {},
   "outputs": [
    {
     "data": {
      "text/plain": [
       "Text(0.5, 1.0, 'Polarity Distribution')"
      ]
     },
     "execution_count": 5,
     "metadata": {},
     "output_type": "execute_result"
    },
    {
     "data": {
      "image/png": "[encoded data removed]",
      "text/plain": [
       "<Figure size 504x360 with 1 Axes>"
      ]
     },
     "metadata": {},
     "output_type": "display_data"
    }
   ],
   "source": [
    "fig, ax = plt.subplots(figsize=(7,5))\n",
    "\n",
    "hist = ax.hist(data['Polarity'], bins = 5)\n",
    "ax.set_xlabel('Polarity')\n",
    "ax.set_ylabel('Frequency')\n",
    "ax.set_title('Polarity Distribution')"
   ]
  },
  {
   "cell_type": "code",
   "execution_count": 6,
   "metadata": {},
   "outputs": [
    {
     "data": {
      "text/html": [
       "<div>\n",
       "<style scoped>\n",
       "    .dataframe tbody tr th:only-of-type {\n",
       "        vertical-align: middle;\n",
       "    }\n",
       "\n",
       "    .dataframe tbody tr th {\n",
       "        vertical-align: top;\n",
       "    }\n",
       "\n",
       "    .dataframe thead th {\n",
       "        text-align: right;\n",
       "    }\n",
       "</style>\n",
       "<table border=\"1\" class=\"dataframe\">\n",
       "  <thead>\n",
       "    <tr style=\"text-align: right;\">\n",
       "      <th></th>\n",
       "      <th>index</th>\n",
       "      <th>Title</th>\n",
       "      <th>Opinion</th>\n",
       "      <th>Place</th>\n",
       "      <th>Gender</th>\n",
       "      <th>Age</th>\n",
       "      <th>Country</th>\n",
       "      <th>Date</th>\n",
       "      <th>Label</th>\n",
       "    </tr>\n",
       "  </thead>\n",
       "  <tbody>\n",
       "    <tr>\n",
       "      <th>0</th>\n",
       "      <td>1</td>\n",
       "      <td>\"¡Momias, demasiado impresionante!\"</td>\n",
       "      <td>\"Las momias están en muy buen estado de conser...</td>\n",
       "      <td>Museo de las Momias</td>\n",
       "      <td>Male</td>\n",
       "      <td>53</td>\n",
       "      <td>México</td>\n",
       "      <td>22/10/2016</td>\n",
       "      <td>1</td>\n",
       "    </tr>\n",
       "    <tr>\n",
       "      <th>1</th>\n",
       "      <td>2</td>\n",
       "      <td>Comida cara</td>\n",
       "      <td>Tienen carteles con comida cortida de 40 y no ...</td>\n",
       "      <td>Mercado Hidalgo</td>\n",
       "      <td>N/I</td>\n",
       "      <td>-1</td>\n",
       "      <td>México</td>\n",
       "      <td>2018</td>\n",
       "      <td>1</td>\n",
       "    </tr>\n",
       "    <tr>\n",
       "      <th>2</th>\n",
       "      <td>3</td>\n",
       "      <td>\"No coman ahí\"</td>\n",
       "      <td>\"Creo que es muy insalubre, hay basura por tod...</td>\n",
       "      <td>Mercado Hidalgo</td>\n",
       "      <td>Female</td>\n",
       "      <td>61</td>\n",
       "      <td>México</td>\n",
       "      <td>15/01/2013</td>\n",
       "      <td>1</td>\n",
       "    </tr>\n",
       "  </tbody>\n",
       "</table>\n",
       "</div>"
      ],
      "text/plain": [
       "   index                                Title  \\\n",
       "0      1  \"¡Momias, demasiado impresionante!\"   \n",
       "1      2                          Comida cara   \n",
       "2      3                       \"No coman ahí\"   \n",
       "\n",
       "                                             Opinion                Place  \\\n",
       "0  \"Las momias están en muy buen estado de conser...  Museo de las Momias   \n",
       "1  Tienen carteles con comida cortida de 40 y no ...      Mercado Hidalgo   \n",
       "2  \"Creo que es muy insalubre, hay basura por tod...      Mercado Hidalgo   \n",
       "\n",
       "   Gender  Age Country        Date  Label  \n",
       "0    Male   53  México  22/10/2016      1  \n",
       "1     N/I   -1  México        2018      1  \n",
       "2  Female   61  México  15/01/2013      1  "
      ]
     },
     "execution_count": 6,
     "metadata": {},
     "output_type": "execute_result"
    }
   ],
   "source": [
    "# Old data\n",
    "data_2021 = pd.read_csv('data/sentiment_2021.csv')\n",
    "data_2021.head(3)"
   ]
  },
  {
   "cell_type": "code",
   "execution_count": 7,
   "metadata": {},
   "outputs": [
    {
     "data": {
      "text/html": [
       "<div>\n",
       "<style scoped>\n",
       "    .dataframe tbody tr th:only-of-type {\n",
       "        vertical-align: middle;\n",
       "    }\n",
       "\n",
       "    .dataframe tbody tr th {\n",
       "        vertical-align: top;\n",
       "    }\n",
       "\n",
       "    .dataframe thead th {\n",
       "        text-align: right;\n",
       "    }\n",
       "</style>\n",
       "<table border=\"1\" class=\"dataframe\">\n",
       "  <thead>\n",
       "    <tr style=\"text-align: right;\">\n",
       "      <th></th>\n",
       "      <th>Title</th>\n",
       "      <th>Opinion</th>\n",
       "      <th>Polarity</th>\n",
       "      <th>2022</th>\n",
       "    </tr>\n",
       "  </thead>\n",
       "  <tbody>\n",
       "    <tr>\n",
       "      <th>0</th>\n",
       "      <td>\"¡Momias, demasiado impresionante!\"</td>\n",
       "      <td>\"Las momias están en muy buen estado de conser...</td>\n",
       "      <td>1</td>\n",
       "      <td>False</td>\n",
       "    </tr>\n",
       "    <tr>\n",
       "      <th>1</th>\n",
       "      <td>Comida cara</td>\n",
       "      <td>Tienen carteles con comida cortida de 40 y no ...</td>\n",
       "      <td>1</td>\n",
       "      <td>False</td>\n",
       "    </tr>\n",
       "    <tr>\n",
       "      <th>2</th>\n",
       "      <td>\"No coman ahí\"</td>\n",
       "      <td>\"Creo que es muy insalubre, hay basura por tod...</td>\n",
       "      <td>1</td>\n",
       "      <td>False</td>\n",
       "    </tr>\n",
       "  </tbody>\n",
       "</table>\n",
       "</div>"
      ],
      "text/plain": [
       "                                 Title  \\\n",
       "0  \"¡Momias, demasiado impresionante!\"   \n",
       "1                          Comida cara   \n",
       "2                       \"No coman ahí\"   \n",
       "\n",
       "                                             Opinion  Polarity   2022  \n",
       "0  \"Las momias están en muy buen estado de conser...         1  False  \n",
       "1  Tienen carteles con comida cortida de 40 y no ...         1  False  \n",
       "2  \"Creo que es muy insalubre, hay basura por tod...         1  False  "
      ]
     },
     "execution_count": 7,
     "metadata": {},
     "output_type": "execute_result"
    }
   ],
   "source": [
    "# Drop some columns\n",
    "data_2021 = data_2021.drop(columns = ['Place', 'Gender', 'Age', 'Country', 'Date', 'index'])\n",
    "# Rename label column to Polarity\n",
    "data_2021.rename({'Label':'Polarity'}, axis = 'columns', inplace=True)\n",
    "data_2021['2022'] = [False for i in range(len(data_2021))]\n",
    "data_2021.head(3)"
   ]
  },
  {
   "cell_type": "code",
   "execution_count": 8,
   "metadata": {},
   "outputs": [
    {
     "data": {
      "text/plain": [
       "Text(0.5, 1.0, 'Polarity Distribution')"
      ]
     },
     "execution_count": 8,
     "metadata": {},
     "output_type": "execute_result"
    },
    {
     "data": {
      "image/png": "[encoded data removed]",
      "text/plain": [
       "<Figure size 504x360 with 1 Axes>"
      ]
     },
     "metadata": {},
     "output_type": "display_data"
    }
   ],
   "source": [
    "fig, ax = plt.subplots(figsize=(7,5))\n",
    "\n",
    "ax.hist(data_2021['Polarity'], bins = 5)\n",
    "ax.set_xlabel('Polarity')\n",
    "ax.set_ylabel('Frequency')\n",
    "ax.set_title('Polarity Distribution')"
   ]
  },
  {
   "cell_type": "code",
   "execution_count": 9,
   "metadata": {},
   "outputs": [
    {
     "name": "stdout",
     "output_type": "stream",
     "text": [
      "5197 30212\n"
     ]
    }
   ],
   "source": [
    "print(len(data_2021), len(data))"
   ]
  },
  {
   "cell_type": "code",
   "execution_count": 10,
   "metadata": {},
   "outputs": [
    {
     "name": "stdout",
     "output_type": "stream",
     "text": [
      "35409\n"
     ]
    }
   ],
   "source": [
    "# Merge datasets\n",
    "data = pd.concat([data, data_2021], ignore_index=True)\n",
    "print(len(data))"
   ]
  },
  {
   "cell_type": "code",
   "execution_count": 11,
   "metadata": {},
   "outputs": [],
   "source": [
    "hist = ax.hist(data['Polarity'], bins = 5)"
   ]
  },
  {
   "cell_type": "code",
   "execution_count": 12,
   "metadata": {},
   "outputs": [
    {
     "data": {
      "text/plain": [
       "array([  627.,   875.,  2807.,  7474., 23626.])"
      ]
     },
     "execution_count": 12,
     "metadata": {},
     "output_type": "execute_result"
    }
   ],
   "source": [
    "hist[0]"
   ]
  },
  {
   "cell_type": "code",
   "execution_count": 13,
   "metadata": {},
   "outputs": [
    {
     "name": "stdout",
     "output_type": "stream",
     "text": [
      "For label 1 search: 22999.0\n",
      "For label 2 search: 22751.0\n",
      "For label 3 search: 20819.0\n",
      "For label 4 search: 16152.0\n",
      "For label 5 search: 0.0\n"
     ]
    }
   ],
   "source": [
    "maxi = hist[0].max()\n",
    "for i in range(5):\n",
    "    print(f'For label {i+1} search: {maxi - hist[0][i]}')"
   ]
  },
  {
   "cell_type": "code",
   "execution_count": 114,
   "metadata": {},
   "outputs": [],
   "source": [
    "# Split in train and test\n",
    "train, test = train_test_split(data, test_size=0.2, random_state=42)"
   ]
  },
  {
   "cell_type": "markdown",
   "metadata": {},
   "source": [
    "# Option 1: Translate to english and use existing libraries."
   ]
  },
  {
   "cell_type": "code",
   "execution_count": 101,
   "metadata": {},
   "outputs": [
    {
     "name": "stdout",
     "output_type": "stream",
     "text": [
      "I hate you, idiot 0\n",
      "You are the best thing that ever happened to me 5\n"
     ]
    }
   ],
   "source": [
    "from googletrans import Translator\n",
    "from textblob import TextBlob\n",
    "\n",
    "# Example: Spanish to English\n",
    "def to_english(text):\n",
    "    translator = Translator()\n",
    "    return translator.translate(text, src='es', dest='en').text\n",
    "\n",
    "def sentiment(text):\n",
    "    if type(text) != str:\n",
    "        return 0\n",
    "    else:\n",
    "        blob = TextBlob(text)\n",
    "        num = blob.sentiment.polarity # From -1 to 1\n",
    "        # Map to 1 to 5\n",
    "        num = (num + 1) * 5/2 + 1\n",
    "\n",
    "    # Return nearest integer\n",
    "    return int(round(num))\n",
    "\n",
    "example = to_english('Te odio idiota')\n",
    "print(example, sentiment(example))\n",
    "\n",
    "example = to_english('Eres lo mejor que me ha pasado en la vida')\n",
    "print(example, sentiment(example))"
   ]
  },
  {
   "cell_type": "code",
   "execution_count": null,
   "metadata": {},
   "outputs": [],
   "source": [
    "translation = []\n",
    "\n",
    "for i, text in enumerate(data_2021['Opinion']):\n",
    "    translation.append(to_english(text))\n",
    "    if i % 100 == 0:\n",
    "        print(i)"
   ]
  },
  {
   "cell_type": "code",
   "execution_count": 59,
   "metadata": {},
   "outputs": [],
   "source": [
    "data_2021['Translation'] = translation"
   ]
  },
  {
   "cell_type": "code",
   "execution_count": 99,
   "metadata": {},
   "outputs": [],
   "source": [
    "# data_2021.to_csv('data/sentiment_2021_translated.csv')\n",
    "data_2021 = pd.read_csv('data/sentiment_2021_translated.csv')"
   ]
  },
  {
   "cell_type": "code",
   "execution_count": 102,
   "metadata": {},
   "outputs": [],
   "source": [
    "data_2021['Predicted'] = data_2021['Translation'].apply(sentiment)"
   ]
  },
  {
   "cell_type": "code",
   "execution_count": 103,
   "metadata": {},
   "outputs": [
    {
     "data": {
      "text/html": [
       "<div>\n",
       "<style scoped>\n",
       "    .dataframe tbody tr th:only-of-type {\n",
       "        vertical-align: middle;\n",
       "    }\n",
       "\n",
       "    .dataframe tbody tr th {\n",
       "        vertical-align: top;\n",
       "    }\n",
       "\n",
       "    .dataframe thead th {\n",
       "        text-align: right;\n",
       "    }\n",
       "</style>\n",
       "<table border=\"1\" class=\"dataframe\">\n",
       "  <thead>\n",
       "    <tr style=\"text-align: right;\">\n",
       "      <th></th>\n",
       "      <th>0</th>\n",
       "      <th>1</th>\n",
       "      <th>2</th>\n",
       "      <th>3</th>\n",
       "      <th>4</th>\n",
       "      <th>5</th>\n",
       "    </tr>\n",
       "  </thead>\n",
       "  <tbody>\n",
       "    <tr>\n",
       "      <th>0</th>\n",
       "      <td>0</td>\n",
       "      <td>0</td>\n",
       "      <td>0</td>\n",
       "      <td>0</td>\n",
       "      <td>0</td>\n",
       "      <td>0</td>\n",
       "    </tr>\n",
       "    <tr>\n",
       "      <th>1</th>\n",
       "      <td>1</td>\n",
       "      <td>5</td>\n",
       "      <td>33</td>\n",
       "      <td>33</td>\n",
       "      <td>7</td>\n",
       "      <td>1</td>\n",
       "    </tr>\n",
       "    <tr>\n",
       "      <th>2</th>\n",
       "      <td>0</td>\n",
       "      <td>5</td>\n",
       "      <td>65</td>\n",
       "      <td>69</td>\n",
       "      <td>6</td>\n",
       "      <td>0</td>\n",
       "    </tr>\n",
       "    <tr>\n",
       "      <th>3</th>\n",
       "      <td>2</td>\n",
       "      <td>4</td>\n",
       "      <td>125</td>\n",
       "      <td>440</td>\n",
       "      <td>108</td>\n",
       "      <td>7</td>\n",
       "    </tr>\n",
       "    <tr>\n",
       "      <th>4</th>\n",
       "      <td>1</td>\n",
       "      <td>3</td>\n",
       "      <td>160</td>\n",
       "      <td>914</td>\n",
       "      <td>474</td>\n",
       "      <td>44</td>\n",
       "    </tr>\n",
       "    <tr>\n",
       "      <th>5</th>\n",
       "      <td>2</td>\n",
       "      <td>8</td>\n",
       "      <td>210</td>\n",
       "      <td>1189</td>\n",
       "      <td>1133</td>\n",
       "      <td>148</td>\n",
       "    </tr>\n",
       "  </tbody>\n",
       "</table>\n",
       "</div>"
      ],
      "text/plain": [
       "   0  1    2     3     4    5\n",
       "0  0  0    0     0     0    0\n",
       "1  1  5   33    33     7    1\n",
       "2  0  5   65    69     6    0\n",
       "3  2  4  125   440   108    7\n",
       "4  1  3  160   914   474   44\n",
       "5  2  8  210  1189  1133  148"
      ]
     },
     "execution_count": 103,
     "metadata": {},
     "output_type": "execute_result"
    }
   ],
   "source": [
    "from sklearn.metrics import confusion_matrix\n",
    "\n",
    "# Get confusion matrix\n",
    "confusion = pd.DataFrame(confusion_matrix(data_2021['Polarity'], data_2021['Predicted']))\n",
    "confusion"
   ]
  },
  {
   "cell_type": "code",
   "execution_count": 104,
   "metadata": {},
   "outputs": [
    {
     "name": "stdout",
     "output_type": "stream",
     "text": [
      "0.21781797190686936\n"
     ]
    }
   ],
   "source": [
    "\n",
    "# Get accuracy\n",
    "accuracy = sum([confusion[i][i] for i in range(len(confusion))]) / len(data_2021)\n",
    "print(accuracy)"
   ]
  },
  {
   "cell_type": "code",
   "execution_count": 69,
   "metadata": {},
   "outputs": [
    {
     "data": {
      "text/html": [
       "<div>\n",
       "<style scoped>\n",
       "    .dataframe tbody tr th:only-of-type {\n",
       "        vertical-align: middle;\n",
       "    }\n",
       "\n",
       "    .dataframe tbody tr th {\n",
       "        vertical-align: top;\n",
       "    }\n",
       "\n",
       "    .dataframe thead th {\n",
       "        text-align: right;\n",
       "    }\n",
       "</style>\n",
       "<table border=\"1\" class=\"dataframe\">\n",
       "  <thead>\n",
       "    <tr style=\"text-align: right;\">\n",
       "      <th></th>\n",
       "      <th>Title</th>\n",
       "      <th>Opinion</th>\n",
       "      <th>Polarity</th>\n",
       "      <th>2022</th>\n",
       "      <th>Translation</th>\n",
       "      <th>Predicted</th>\n",
       "    </tr>\n",
       "  </thead>\n",
       "  <tbody>\n",
       "    <tr>\n",
       "      <th>0</th>\n",
       "      <td>\"¡Momias, demasiado impresionante!\"</td>\n",
       "      <td>\"Las momias están en muy buen estado de conser...</td>\n",
       "      <td>1</td>\n",
       "      <td>False</td>\n",
       "      <td>\"The mummies are in a very good state of prese...</td>\n",
       "      <td>3</td>\n",
       "    </tr>\n",
       "    <tr>\n",
       "      <th>1</th>\n",
       "      <td>Comida cara</td>\n",
       "      <td>Tienen carteles con comida cortida de 40 y no ...</td>\n",
       "      <td>1</td>\n",
       "      <td>False</td>\n",
       "      <td>They have posters with fast food for 40 and th...</td>\n",
       "      <td>4</td>\n",
       "    </tr>\n",
       "    <tr>\n",
       "      <th>2</th>\n",
       "      <td>\"No coman ahí\"</td>\n",
       "      <td>\"Creo que es muy insalubre, hay basura por tod...</td>\n",
       "      <td>1</td>\n",
       "      <td>False</td>\n",
       "      <td>\"I think it is very unhealthy, there is garbag...</td>\n",
       "      <td>3</td>\n",
       "    </tr>\n",
       "    <tr>\n",
       "      <th>3</th>\n",
       "      <td>\"Momificado\"</td>\n",
       "      <td>\"Para mí gusto no vale la pena... tristemente ...</td>\n",
       "      <td>1</td>\n",
       "      <td>False</td>\n",
       "      <td>\"For my taste it's not worth it... sadly it's ...</td>\n",
       "      <td>3</td>\n",
       "    </tr>\n",
       "    <tr>\n",
       "      <th>4</th>\n",
       "      <td>\"Incómodo y cero romántico\"</td>\n",
       "      <td>\"Es un lugar poco interesante y que se conoce ...</td>\n",
       "      <td>1</td>\n",
       "      <td>False</td>\n",
       "      <td>\"It is an uninteresting place that is known in...</td>\n",
       "      <td>2</td>\n",
       "    </tr>\n",
       "    <tr>\n",
       "      <th>5</th>\n",
       "      <td>Muy descuidado</td>\n",
       "      <td>Cierto, es un mercado, pero no por eso hay que...</td>\n",
       "      <td>1</td>\n",
       "      <td>False</td>\n",
       "      <td>True, it is a market, but that is not why you ...</td>\n",
       "      <td>3</td>\n",
       "    </tr>\n",
       "    <tr>\n",
       "      <th>6</th>\n",
       "      <td>\"Horrible\"</td>\n",
       "      <td>\"Creí que era un museo dedicado a momias de ot...</td>\n",
       "      <td>1</td>\n",
       "      <td>False</td>\n",
       "      <td>\"I thought it was a museum dedicated to mummie...</td>\n",
       "      <td>3</td>\n",
       "    </tr>\n",
       "    <tr>\n",
       "      <th>7</th>\n",
       "      <td>\"Odioso\"</td>\n",
       "      <td>\"Largas filas para entrar, tickets caros, cobr...</td>\n",
       "      <td>1</td>\n",
       "      <td>False</td>\n",
       "      <td>\"Long lines to get in, expensive tickets, they...</td>\n",
       "      <td>2</td>\n",
       "    </tr>\n",
       "    <tr>\n",
       "      <th>8</th>\n",
       "      <td>\"No visitar\"</td>\n",
       "      <td>\"Es tardado entrar al museo, una vez dentro no...</td>\n",
       "      <td>1</td>\n",
       "      <td>False</td>\n",
       "      <td>\"It takes time to enter the museum, once insid...</td>\n",
       "      <td>3</td>\n",
       "    </tr>\n",
       "    <tr>\n",
       "      <th>9</th>\n",
       "      <td>\"Esperaba más\"</td>\n",
       "      <td>\"Es un lugar que la verdad, esperas algo mágic...</td>\n",
       "      <td>1</td>\n",
       "      <td>False</td>\n",
       "      <td>\"It is a place where the truth is, you expect ...</td>\n",
       "      <td>4</td>\n",
       "    </tr>\n",
       "  </tbody>\n",
       "</table>\n",
       "</div>"
      ],
      "text/plain": [
       "                                 Title  \\\n",
       "0  \"¡Momias, demasiado impresionante!\"   \n",
       "1                          Comida cara   \n",
       "2                       \"No coman ahí\"   \n",
       "3                         \"Momificado\"   \n",
       "4          \"Incómodo y cero romántico\"   \n",
       "5                       Muy descuidado   \n",
       "6                           \"Horrible\"   \n",
       "7                             \"Odioso\"   \n",
       "8                         \"No visitar\"   \n",
       "9                       \"Esperaba más\"   \n",
       "\n",
       "                                             Opinion  Polarity   2022  \\\n",
       "0  \"Las momias están en muy buen estado de conser...         1  False   \n",
       "1  Tienen carteles con comida cortida de 40 y no ...         1  False   \n",
       "2  \"Creo que es muy insalubre, hay basura por tod...         1  False   \n",
       "3  \"Para mí gusto no vale la pena... tristemente ...         1  False   \n",
       "4  \"Es un lugar poco interesante y que se conoce ...         1  False   \n",
       "5  Cierto, es un mercado, pero no por eso hay que...         1  False   \n",
       "6  \"Creí que era un museo dedicado a momias de ot...         1  False   \n",
       "7  \"Largas filas para entrar, tickets caros, cobr...         1  False   \n",
       "8  \"Es tardado entrar al museo, una vez dentro no...         1  False   \n",
       "9  \"Es un lugar que la verdad, esperas algo mágic...         1  False   \n",
       "\n",
       "                                         Translation  Predicted  \n",
       "0  \"The mummies are in a very good state of prese...          3  \n",
       "1  They have posters with fast food for 40 and th...          4  \n",
       "2  \"I think it is very unhealthy, there is garbag...          3  \n",
       "3  \"For my taste it's not worth it... sadly it's ...          3  \n",
       "4  \"It is an uninteresting place that is known in...          2  \n",
       "5  True, it is a market, but that is not why you ...          3  \n",
       "6  \"I thought it was a museum dedicated to mummie...          3  \n",
       "7  \"Long lines to get in, expensive tickets, they...          2  \n",
       "8  \"It takes time to enter the museum, once insid...          3  \n",
       "9  \"It is a place where the truth is, you expect ...          4  "
      ]
     },
     "execution_count": 69,
     "metadata": {},
     "output_type": "execute_result"
    }
   ],
   "source": [
    "data_2021.head(10)"
   ]
  },
  {
   "cell_type": "code",
   "execution_count": 78,
   "metadata": {},
   "outputs": [],
   "source": [
    "from vaderSentiment.vaderSentiment import SentimentIntensityAnalyzer\n",
    "\n",
    "def sentiment(text):\n",
    "    analyzer = SentimentIntensityAnalyzer()\n",
    "    return float(analyzer.polarity_scores(text)['compound'])"
   ]
  },
  {
   "cell_type": "code",
   "execution_count": 79,
   "metadata": {},
   "outputs": [
    {
     "data": {
      "text/plain": [
       "-0.5719"
      ]
     },
     "execution_count": 79,
     "metadata": {},
     "output_type": "execute_result"
    }
   ],
   "source": [
    "sentiment('I hate you')"
   ]
  },
  {
   "cell_type": "code",
   "execution_count": 88,
   "metadata": {},
   "outputs": [
    {
     "data": {
      "text/plain": [
       "True"
      ]
     },
     "execution_count": 88,
     "metadata": {},
     "output_type": "execute_result"
    }
   ],
   "source": [
    "type('hola') == str"
   ]
  },
  {
   "cell_type": "code",
   "execution_count": 89,
   "metadata": {},
   "outputs": [],
   "source": [
    "sent = []\n",
    "\n",
    "for text in data_2021['Translation']:\n",
    "    if type(text) != str:\n",
    "        sent.append(0)\n",
    "    else:\n",
    "        n = sentiment(text)\n",
    "        n = (n + 1) * 5/2\n",
    "        sent.append(int(round(n)))\n",
    "\n",
    "data_2021['Predicted'] = sent"
   ]
  },
  {
   "cell_type": "code",
   "execution_count": 95,
   "metadata": {},
   "outputs": [
    {
     "data": {
      "text/html": [
       "<div>\n",
       "<style scoped>\n",
       "    .dataframe tbody tr th:only-of-type {\n",
       "        vertical-align: middle;\n",
       "    }\n",
       "\n",
       "    .dataframe tbody tr th {\n",
       "        vertical-align: top;\n",
       "    }\n",
       "\n",
       "    .dataframe thead th {\n",
       "        text-align: right;\n",
       "    }\n",
       "</style>\n",
       "<table border=\"1\" class=\"dataframe\">\n",
       "  <thead>\n",
       "    <tr style=\"text-align: right;\">\n",
       "      <th></th>\n",
       "      <th>0</th>\n",
       "      <th>1</th>\n",
       "      <th>2</th>\n",
       "      <th>3</th>\n",
       "      <th>4</th>\n",
       "      <th>5</th>\n",
       "    </tr>\n",
       "  </thead>\n",
       "  <tbody>\n",
       "    <tr>\n",
       "      <th>0</th>\n",
       "      <td>0</td>\n",
       "      <td>0</td>\n",
       "      <td>0</td>\n",
       "      <td>0</td>\n",
       "      <td>0</td>\n",
       "      <td>0</td>\n",
       "    </tr>\n",
       "    <tr>\n",
       "      <th>1</th>\n",
       "      <td>11</td>\n",
       "      <td>23</td>\n",
       "      <td>11</td>\n",
       "      <td>13</td>\n",
       "      <td>13</td>\n",
       "      <td>9</td>\n",
       "    </tr>\n",
       "    <tr>\n",
       "      <th>2</th>\n",
       "      <td>17</td>\n",
       "      <td>23</td>\n",
       "      <td>29</td>\n",
       "      <td>21</td>\n",
       "      <td>34</td>\n",
       "      <td>21</td>\n",
       "    </tr>\n",
       "    <tr>\n",
       "      <th>3</th>\n",
       "      <td>23</td>\n",
       "      <td>52</td>\n",
       "      <td>98</td>\n",
       "      <td>118</td>\n",
       "      <td>244</td>\n",
       "      <td>151</td>\n",
       "    </tr>\n",
       "    <tr>\n",
       "      <th>4</th>\n",
       "      <td>10</td>\n",
       "      <td>46</td>\n",
       "      <td>146</td>\n",
       "      <td>141</td>\n",
       "      <td>626</td>\n",
       "      <td>627</td>\n",
       "    </tr>\n",
       "    <tr>\n",
       "      <th>5</th>\n",
       "      <td>9</td>\n",
       "      <td>26</td>\n",
       "      <td>165</td>\n",
       "      <td>208</td>\n",
       "      <td>962</td>\n",
       "      <td>1320</td>\n",
       "    </tr>\n",
       "  </tbody>\n",
       "</table>\n",
       "</div>"
      ],
      "text/plain": [
       "    0   1    2    3    4     5\n",
       "0   0   0    0    0    0     0\n",
       "1  11  23   11   13   13     9\n",
       "2  17  23   29   21   34    21\n",
       "3  23  52   98  118  244   151\n",
       "4  10  46  146  141  626   627\n",
       "5   9  26  165  208  962  1320"
      ]
     },
     "execution_count": 95,
     "metadata": {},
     "output_type": "execute_result"
    }
   ],
   "source": [
    "from sklearn.metrics import confusion_matrix\n",
    "\n",
    "# Get confusion matrix\n",
    "confusion = pd.DataFrame(confusion_matrix(data_2021['Polarity'], data_2021['Predicted']))\n",
    "confusion"
   ]
  },
  {
   "cell_type": "code",
   "execution_count": 96,
   "metadata": {},
   "outputs": [
    {
     "name": "stdout",
     "output_type": "stream",
     "text": [
      "0.40715797575524343\n"
     ]
    }
   ],
   "source": [
    "# Get accuracy\n",
    "accuracy = sum([confusion[i][i] for i in range(len(confusion))]) / len(data_2021)\n",
    "print(accuracy)"
   ]
  },
  {
   "cell_type": "code",
   "execution_count": 124,
   "metadata": {},
   "outputs": [
    {
     "name": "stderr",
     "output_type": "stream",
     "text": [
      "No model was supplied, defaulted to distilbert-base-uncased-finetuned-sst-2-english (https://huggingface.co/distilbert-base-uncased-finetuned-sst-2-english)\n"
     ]
    }
   ],
   "source": [
    "from transformers import pipeline\n",
    "\n",
    "classifier = pipeline('sentiment-analysis')"
   ]
  },
  {
   "cell_type": "code",
   "execution_count": 135,
   "metadata": {},
   "outputs": [
    {
     "name": "stdout",
     "output_type": "stream",
     "text": [
      "[{'label': 'POSITIVE', 'score': 0.9998656511306763}] [{'label': 'NEGATIVE', 'score': 0.9991129040718079}] [{'label': 'NEGATIVE', 'score': 0.9996882677078247}]\n"
     ]
    }
   ],
   "source": [
    "print(classifier('I love you'), classifier('I hate you'), classifier('I am sick'))"
   ]
  },
  {
   "cell_type": "markdown",
   "metadata": {},
   "source": [
    "# BERT and classifiers (automatic)\n",
    "\n",
    "https://github.com/dccuchile/beto \n",
    "\n",
    "https://www.tensorflow.org/text/tutorials/classify_text_with_bert\n",
    "\n",
    "https://towardsdatascience.com/multi-label-text-classification-using-bert-and-tensorflow-d2e88d8f488d"
   ]
  },
  {
   "cell_type": "code",
   "execution_count": 136,
   "metadata": {},
   "outputs": [
    {
     "data": {
      "text/html": [
       "<div>\n",
       "<style scoped>\n",
       "    .dataframe tbody tr th:only-of-type {\n",
       "        vertical-align: middle;\n",
       "    }\n",
       "\n",
       "    .dataframe tbody tr th {\n",
       "        vertical-align: top;\n",
       "    }\n",
       "\n",
       "    .dataframe thead th {\n",
       "        text-align: right;\n",
       "    }\n",
       "</style>\n",
       "<table border=\"1\" class=\"dataframe\">\n",
       "  <thead>\n",
       "    <tr style=\"text-align: right;\">\n",
       "      <th></th>\n",
       "      <th>Title</th>\n",
       "      <th>Opinion</th>\n",
       "      <th>Polarity</th>\n",
       "      <th>2022</th>\n",
       "    </tr>\n",
       "  </thead>\n",
       "  <tbody>\n",
       "    <tr>\n",
       "      <th>0</th>\n",
       "      <td>Pésimo lugar</td>\n",
       "      <td>Piensen dos veces antes de ir a este hotel, te...</td>\n",
       "      <td>1.0</td>\n",
       "      <td>True</td>\n",
       "    </tr>\n",
       "    <tr>\n",
       "      <th>1</th>\n",
       "      <td>No vayas a lugar de Eddie</td>\n",
       "      <td>Cuatro de nosotros fuimos recientemente a Eddi...</td>\n",
       "      <td>1.0</td>\n",
       "      <td>True</td>\n",
       "    </tr>\n",
       "    <tr>\n",
       "      <th>2</th>\n",
       "      <td>Mala relación calidad-precio</td>\n",
       "      <td>seguiré corta y simple: limpieza\\n- bad. Tengo...</td>\n",
       "      <td>1.0</td>\n",
       "      <td>True</td>\n",
       "    </tr>\n",
       "  </tbody>\n",
       "</table>\n",
       "</div>"
      ],
      "text/plain": [
       "                          Title  \\\n",
       "0                  Pésimo lugar   \n",
       "1     No vayas a lugar de Eddie   \n",
       "2  Mala relación calidad-precio   \n",
       "\n",
       "                                             Opinion  Polarity  2022  \n",
       "0  Piensen dos veces antes de ir a este hotel, te...       1.0  True  \n",
       "1  Cuatro de nosotros fuimos recientemente a Eddi...       1.0  True  \n",
       "2  seguiré corta y simple: limpieza\\n- bad. Tengo...       1.0  True  "
      ]
     },
     "execution_count": 136,
     "metadata": {},
     "output_type": "execute_result"
    }
   ],
   "source": [
    "data.head(3)"
   ]
  },
  {
   "cell_type": "code",
   "execution_count": 11,
   "metadata": {},
   "outputs": [
    {
     "name": "stdout",
     "output_type": "stream",
     "text": [
      "26556 8853\n"
     ]
    }
   ],
   "source": [
    "import tensorflow as tf\n",
    "from sklearn.model_selection import train_test_split\n",
    "\n",
    "train, test = train_test_split(data, test_size=0.25)\n",
    "print(len(train), len(test))"
   ]
  },
  {
   "cell_type": "code",
   "execution_count": 14,
   "metadata": {},
   "outputs": [
    {
     "name": "stderr",
     "output_type": "stream",
     "text": [
      "2022-03-18 15:58:02.376302: I tensorflow/stream_executor/cuda/cuda_gpu_executor.cc:922] could not open file to read NUMA node: /sys/bus/pci/devices/0000:01:00.0/numa_node\n",
      "Your kernel may have been built without NUMA support.\n",
      "2022-03-18 15:58:02.376956: W tensorflow/stream_executor/platform/default/dso_loader.cc:64] Could not load dynamic library 'libcudart.so.11.0'; dlerror: libcudart.so.11.0: cannot open shared object file: No such file or directory\n",
      "2022-03-18 15:58:02.377416: W tensorflow/stream_executor/platform/default/dso_loader.cc:64] Could not load dynamic library 'libcublas.so.11'; dlerror: libcublas.so.11: cannot open shared object file: No such file or directory\n",
      "2022-03-18 15:58:02.377991: W tensorflow/stream_executor/platform/default/dso_loader.cc:64] Could not load dynamic library 'libcublasLt.so.11'; dlerror: libcublasLt.so.11: cannot open shared object file: No such file or directory\n",
      "2022-03-18 15:58:02.378438: W tensorflow/stream_executor/platform/default/dso_loader.cc:64] Could not load dynamic library 'libcufft.so.10'; dlerror: libcufft.so.10: cannot open shared object file: No such file or directory\n",
      "2022-03-18 15:58:02.379037: W tensorflow/stream_executor/platform/default/dso_loader.cc:64] Could not load dynamic library 'libcurand.so.10'; dlerror: libcurand.so.10: cannot open shared object file: No such file or directory\n",
      "2022-03-18 15:58:02.379658: W tensorflow/stream_executor/platform/default/dso_loader.cc:64] Could not load dynamic library 'libcusolver.so.11'; dlerror: libcusolver.so.11: cannot open shared object file: No such file or directory\n",
      "2022-03-18 15:58:02.379978: W tensorflow/stream_executor/platform/default/dso_loader.cc:64] Could not load dynamic library 'libcusparse.so.11'; dlerror: libcusparse.so.11: cannot open shared object file: No such file or directory\n",
      "2022-03-18 15:58:02.380271: W tensorflow/stream_executor/platform/default/dso_loader.cc:64] Could not load dynamic library 'libcudnn.so.8'; dlerror: libcudnn.so.8: cannot open shared object file: No such file or directory\n",
      "2022-03-18 15:58:02.380321: W tensorflow/core/common_runtime/gpu/gpu_device.cc:1850] Cannot dlopen some GPU libraries. Please make sure the missing libraries mentioned above are installed properly if you would like to use GPU. Follow the guide at https://www.tensorflow.org/install/gpu for how to download and setup the required libraries for your platform.\n",
      "Skipping registering GPU devices...\n",
      "2022-03-18 15:58:02.385729: I tensorflow/core/platform/cpu_feature_guard.cc:151] This TensorFlow binary is optimized with oneAPI Deep Neural Network Library (oneDNN) to use the following CPU instructions in performance-critical operations:  AVX2 FMA\n",
      "To enable them in other operations, rebuild TensorFlow with the appropriate compiler flags.\n"
     ]
    },
    {
     "ename": "KeyboardInterrupt",
     "evalue": "",
     "output_type": "error",
     "traceback": [
      "\u001b[0;31m---------------------------------------------------------------------------\u001b[0m",
      "\u001b[0;31mKeyboardInterrupt\u001b[0m                         Traceback (most recent call last)",
      "Input \u001b[0;32mIn [14]\u001b[0m, in \u001b[0;36m<cell line: 5>\u001b[0;34m()\u001b[0m\n\u001b[1;32m      2\u001b[0m \u001b[39mimport\u001b[39;00m \u001b[39mtensorflow_text\u001b[39;00m \u001b[39mas\u001b[39;00m \u001b[39mtext\u001b[39;00m\n\u001b[1;32m      4\u001b[0m preprocessor \u001b[39m=\u001b[39m hub\u001b[39m.\u001b[39mKerasLayer(\u001b[39m\"\u001b[39m\u001b[39mhttps://tfhub.dev/google/universal-sentence-encoder-cmlm/multilingual-preprocess/2\u001b[39m\u001b[39m\"\u001b[39m)\n\u001b[0;32m----> 5\u001b[0m encoder \u001b[39m=\u001b[39m hub\u001b[39m.\u001b[39;49mKerasLayer(\u001b[39m\"\u001b[39;49m\u001b[39mhttps://tfhub.dev/google/universal-sentence-encoder-cmlm/multilingual-base/1\u001b[39;49m\u001b[39m\"\u001b[39;49m)\n",
      "File \u001b[0;32m/mnt/c/Users/missa/Documents/Proyectos/NLP/nlp-Rest-Mex-2022/env/lib/python3.8/site-packages/tensorflow_hub/keras_layer.py:153\u001b[0m, in \u001b[0;36mKerasLayer.__init__\u001b[0;34m(self, handle, trainable, arguments, _sentinel, tags, signature, signature_outputs_as_dict, output_key, output_shape, load_options, **kwargs)\u001b[0m\n\u001b[1;32m    <a href='file:///mnt/c/Users/missa/Documents/Proyectos/NLP/nlp-Rest-Mex-2022/env/lib/python3.8/site-packages/tensorflow_hub/keras_layer.py?line=148'>149</a>\u001b[0m   \u001b[39mself\u001b[39m\u001b[39m.\u001b[39m_output_shape \u001b[39m=\u001b[39m data_structures\u001b[39m.\u001b[39mNoDependency(\n\u001b[1;32m    <a href='file:///mnt/c/Users/missa/Documents/Proyectos/NLP/nlp-Rest-Mex-2022/env/lib/python3.8/site-packages/tensorflow_hub/keras_layer.py?line=149'>150</a>\u001b[0m       _convert_nest_to_shapes(output_shape))\n\u001b[1;32m    <a href='file:///mnt/c/Users/missa/Documents/Proyectos/NLP/nlp-Rest-Mex-2022/env/lib/python3.8/site-packages/tensorflow_hub/keras_layer.py?line=151'>152</a>\u001b[0m \u001b[39mself\u001b[39m\u001b[39m.\u001b[39m_load_options \u001b[39m=\u001b[39m load_options\n\u001b[0;32m--> <a href='file:///mnt/c/Users/missa/Documents/Proyectos/NLP/nlp-Rest-Mex-2022/env/lib/python3.8/site-packages/tensorflow_hub/keras_layer.py?line=152'>153</a>\u001b[0m \u001b[39mself\u001b[39m\u001b[39m.\u001b[39m_func \u001b[39m=\u001b[39m load_module(handle, tags, \u001b[39mself\u001b[39;49m\u001b[39m.\u001b[39;49m_load_options)\n\u001b[1;32m    <a href='file:///mnt/c/Users/missa/Documents/Proyectos/NLP/nlp-Rest-Mex-2022/env/lib/python3.8/site-packages/tensorflow_hub/keras_layer.py?line=153'>154</a>\u001b[0m \u001b[39mself\u001b[39m\u001b[39m.\u001b[39m_has_training_argument \u001b[39m=\u001b[39m func_has_training_argument(\u001b[39mself\u001b[39m\u001b[39m.\u001b[39m_func)\n\u001b[1;32m    <a href='file:///mnt/c/Users/missa/Documents/Proyectos/NLP/nlp-Rest-Mex-2022/env/lib/python3.8/site-packages/tensorflow_hub/keras_layer.py?line=154'>155</a>\u001b[0m \u001b[39mself\u001b[39m\u001b[39m.\u001b[39m_is_hub_module_v1 \u001b[39m=\u001b[39m \u001b[39mgetattr\u001b[39m(\u001b[39mself\u001b[39m\u001b[39m.\u001b[39m_func, \u001b[39m\"\u001b[39m\u001b[39m_is_hub_module_v1\u001b[39m\u001b[39m\"\u001b[39m, \u001b[39mFalse\u001b[39;00m)\n",
      "File \u001b[0;32m/mnt/c/Users/missa/Documents/Proyectos/NLP/nlp-Rest-Mex-2022/env/lib/python3.8/site-packages/tensorflow_hub/keras_layer.py:449\u001b[0m, in \u001b[0;36mload_module\u001b[0;34m(handle, tags, load_options)\u001b[0m\n\u001b[1;32m    <a href='file:///mnt/c/Users/missa/Documents/Proyectos/NLP/nlp-Rest-Mex-2022/env/lib/python3.8/site-packages/tensorflow_hub/keras_layer.py?line=446'>447</a>\u001b[0m   \u001b[39mexcept\u001b[39;00m \u001b[39mImportError\u001b[39;00m:  \u001b[39m# Expected before TF2.4.\u001b[39;00m\n\u001b[1;32m    <a href='file:///mnt/c/Users/missa/Documents/Proyectos/NLP/nlp-Rest-Mex-2022/env/lib/python3.8/site-packages/tensorflow_hub/keras_layer.py?line=447'>448</a>\u001b[0m     set_load_options \u001b[39m=\u001b[39m load_options\n\u001b[0;32m--> <a href='file:///mnt/c/Users/missa/Documents/Proyectos/NLP/nlp-Rest-Mex-2022/env/lib/python3.8/site-packages/tensorflow_hub/keras_layer.py?line=448'>449</a>\u001b[0m \u001b[39mreturn\u001b[39;00m module_v2\u001b[39m.\u001b[39;49mload(handle, tags\u001b[39m=\u001b[39;49mtags, options\u001b[39m=\u001b[39;49mset_load_options)\n",
      "File \u001b[0;32m/mnt/c/Users/missa/Documents/Proyectos/NLP/nlp-Rest-Mex-2022/env/lib/python3.8/site-packages/tensorflow_hub/module_v2.py:92\u001b[0m, in \u001b[0;36mload\u001b[0;34m(handle, tags, options)\u001b[0m\n\u001b[1;32m     <a href='file:///mnt/c/Users/missa/Documents/Proyectos/NLP/nlp-Rest-Mex-2022/env/lib/python3.8/site-packages/tensorflow_hub/module_v2.py?line=89'>90</a>\u001b[0m \u001b[39mif\u001b[39;00m \u001b[39mnot\u001b[39;00m \u001b[39misinstance\u001b[39m(handle, \u001b[39mstr\u001b[39m):\n\u001b[1;32m     <a href='file:///mnt/c/Users/missa/Documents/Proyectos/NLP/nlp-Rest-Mex-2022/env/lib/python3.8/site-packages/tensorflow_hub/module_v2.py?line=90'>91</a>\u001b[0m   \u001b[39mraise\u001b[39;00m \u001b[39mValueError\u001b[39;00m(\u001b[39m\"\u001b[39m\u001b[39mExpected a string, got \u001b[39m\u001b[39m%s\u001b[39;00m\u001b[39m\"\u001b[39m \u001b[39m%\u001b[39m handle)\n\u001b[0;32m---> <a href='file:///mnt/c/Users/missa/Documents/Proyectos/NLP/nlp-Rest-Mex-2022/env/lib/python3.8/site-packages/tensorflow_hub/module_v2.py?line=91'>92</a>\u001b[0m module_path \u001b[39m=\u001b[39m resolve(handle)\n\u001b[1;32m     <a href='file:///mnt/c/Users/missa/Documents/Proyectos/NLP/nlp-Rest-Mex-2022/env/lib/python3.8/site-packages/tensorflow_hub/module_v2.py?line=92'>93</a>\u001b[0m is_hub_module_v1 \u001b[39m=\u001b[39m tf\u001b[39m.\u001b[39mio\u001b[39m.\u001b[39mgfile\u001b[39m.\u001b[39mexists(\n\u001b[1;32m     <a href='file:///mnt/c/Users/missa/Documents/Proyectos/NLP/nlp-Rest-Mex-2022/env/lib/python3.8/site-packages/tensorflow_hub/module_v2.py?line=93'>94</a>\u001b[0m     native_module\u001b[39m.\u001b[39mget_module_proto_path(module_path))\n\u001b[1;32m     <a href='file:///mnt/c/Users/missa/Documents/Proyectos/NLP/nlp-Rest-Mex-2022/env/lib/python3.8/site-packages/tensorflow_hub/module_v2.py?line=94'>95</a>\u001b[0m \u001b[39mif\u001b[39;00m tags \u001b[39mis\u001b[39;00m \u001b[39mNone\u001b[39;00m \u001b[39mand\u001b[39;00m is_hub_module_v1:\n",
      "File \u001b[0;32m/mnt/c/Users/missa/Documents/Proyectos/NLP/nlp-Rest-Mex-2022/env/lib/python3.8/site-packages/tensorflow_hub/module_v2.py:47\u001b[0m, in \u001b[0;36mresolve\u001b[0;34m(handle)\u001b[0m\n\u001b[1;32m     <a href='file:///mnt/c/Users/missa/Documents/Proyectos/NLP/nlp-Rest-Mex-2022/env/lib/python3.8/site-packages/tensorflow_hub/module_v2.py?line=22'>23</a>\u001b[0m \u001b[39mdef\u001b[39;00m \u001b[39mresolve\u001b[39m(handle):\n\u001b[1;32m     <a href='file:///mnt/c/Users/missa/Documents/Proyectos/NLP/nlp-Rest-Mex-2022/env/lib/python3.8/site-packages/tensorflow_hub/module_v2.py?line=23'>24</a>\u001b[0m   \u001b[39m\"\"\"Resolves a module handle into a path.\u001b[39;00m\n\u001b[1;32m     <a href='file:///mnt/c/Users/missa/Documents/Proyectos/NLP/nlp-Rest-Mex-2022/env/lib/python3.8/site-packages/tensorflow_hub/module_v2.py?line=24'>25</a>\u001b[0m \n\u001b[1;32m     <a href='file:///mnt/c/Users/missa/Documents/Proyectos/NLP/nlp-Rest-Mex-2022/env/lib/python3.8/site-packages/tensorflow_hub/module_v2.py?line=25'>26</a>\u001b[0m \u001b[39m  This function works both for plain TF2 SavedModels and the legacy TF1 Hub\u001b[39;00m\n\u001b[0;32m   (...)\u001b[0m\n\u001b[1;32m     <a href='file:///mnt/c/Users/missa/Documents/Proyectos/NLP/nlp-Rest-Mex-2022/env/lib/python3.8/site-packages/tensorflow_hub/module_v2.py?line=44'>45</a>\u001b[0m \u001b[39m    A string representing the Module path.\u001b[39;00m\n\u001b[1;32m     <a href='file:///mnt/c/Users/missa/Documents/Proyectos/NLP/nlp-Rest-Mex-2022/env/lib/python3.8/site-packages/tensorflow_hub/module_v2.py?line=45'>46</a>\u001b[0m \u001b[39m  \"\"\"\u001b[39;00m\n\u001b[0;32m---> <a href='file:///mnt/c/Users/missa/Documents/Proyectos/NLP/nlp-Rest-Mex-2022/env/lib/python3.8/site-packages/tensorflow_hub/module_v2.py?line=46'>47</a>\u001b[0m   \u001b[39mreturn\u001b[39;00m registry\u001b[39m.\u001b[39;49mresolver(handle)\n",
      "File \u001b[0;32m/mnt/c/Users/missa/Documents/Proyectos/NLP/nlp-Rest-Mex-2022/env/lib/python3.8/site-packages/tensorflow_hub/registry.py:51\u001b[0m, in \u001b[0;36mMultiImplRegister.__call__\u001b[0;34m(self, *args, **kwargs)\u001b[0m\n\u001b[1;32m     <a href='file:///mnt/c/Users/missa/Documents/Proyectos/NLP/nlp-Rest-Mex-2022/env/lib/python3.8/site-packages/tensorflow_hub/registry.py?line=48'>49</a>\u001b[0m \u001b[39mfor\u001b[39;00m impl \u001b[39min\u001b[39;00m \u001b[39mreversed\u001b[39m(\u001b[39mself\u001b[39m\u001b[39m.\u001b[39m_impls):\n\u001b[1;32m     <a href='file:///mnt/c/Users/missa/Documents/Proyectos/NLP/nlp-Rest-Mex-2022/env/lib/python3.8/site-packages/tensorflow_hub/registry.py?line=49'>50</a>\u001b[0m   \u001b[39mif\u001b[39;00m impl\u001b[39m.\u001b[39mis_supported(\u001b[39m*\u001b[39margs, \u001b[39m*\u001b[39m\u001b[39m*\u001b[39mkwargs):\n\u001b[0;32m---> <a href='file:///mnt/c/Users/missa/Documents/Proyectos/NLP/nlp-Rest-Mex-2022/env/lib/python3.8/site-packages/tensorflow_hub/registry.py?line=50'>51</a>\u001b[0m     \u001b[39mreturn\u001b[39;00m impl(\u001b[39m*\u001b[39;49margs, \u001b[39m*\u001b[39;49m\u001b[39m*\u001b[39;49mkwargs)\n\u001b[1;32m     <a href='file:///mnt/c/Users/missa/Documents/Proyectos/NLP/nlp-Rest-Mex-2022/env/lib/python3.8/site-packages/tensorflow_hub/registry.py?line=51'>52</a>\u001b[0m   \u001b[39melse\u001b[39;00m:\n\u001b[1;32m     <a href='file:///mnt/c/Users/missa/Documents/Proyectos/NLP/nlp-Rest-Mex-2022/env/lib/python3.8/site-packages/tensorflow_hub/registry.py?line=52'>53</a>\u001b[0m     fails\u001b[39m.\u001b[39mappend(\u001b[39mtype\u001b[39m(impl)\u001b[39m.\u001b[39m\u001b[39m__name__\u001b[39m)\n",
      "File \u001b[0;32m/mnt/c/Users/missa/Documents/Proyectos/NLP/nlp-Rest-Mex-2022/env/lib/python3.8/site-packages/tensorflow_hub/compressed_module_resolver.py:67\u001b[0m, in \u001b[0;36mHttpCompressedFileResolver.__call__\u001b[0;34m(self, handle)\u001b[0m\n\u001b[1;32m     <a href='file:///mnt/c/Users/missa/Documents/Proyectos/NLP/nlp-Rest-Mex-2022/env/lib/python3.8/site-packages/tensorflow_hub/compressed_module_resolver.py?line=62'>63</a>\u001b[0m   response \u001b[39m=\u001b[39m \u001b[39mself\u001b[39m\u001b[39m.\u001b[39m_call_urlopen(request)\n\u001b[1;32m     <a href='file:///mnt/c/Users/missa/Documents/Proyectos/NLP/nlp-Rest-Mex-2022/env/lib/python3.8/site-packages/tensorflow_hub/compressed_module_resolver.py?line=63'>64</a>\u001b[0m   \u001b[39mreturn\u001b[39;00m resolver\u001b[39m.\u001b[39mDownloadManager(handle)\u001b[39m.\u001b[39mdownload_and_uncompress(\n\u001b[1;32m     <a href='file:///mnt/c/Users/missa/Documents/Proyectos/NLP/nlp-Rest-Mex-2022/env/lib/python3.8/site-packages/tensorflow_hub/compressed_module_resolver.py?line=64'>65</a>\u001b[0m       response, tmp_dir)\n\u001b[0;32m---> <a href='file:///mnt/c/Users/missa/Documents/Proyectos/NLP/nlp-Rest-Mex-2022/env/lib/python3.8/site-packages/tensorflow_hub/compressed_module_resolver.py?line=66'>67</a>\u001b[0m \u001b[39mreturn\u001b[39;00m resolver\u001b[39m.\u001b[39;49matomic_download(handle, download, module_dir,\n\u001b[1;32m     <a href='file:///mnt/c/Users/missa/Documents/Proyectos/NLP/nlp-Rest-Mex-2022/env/lib/python3.8/site-packages/tensorflow_hub/compressed_module_resolver.py?line=67'>68</a>\u001b[0m                                 \u001b[39mself\u001b[39;49m\u001b[39m.\u001b[39;49m_lock_file_timeout_sec())\n",
      "File \u001b[0;32m/mnt/c/Users/missa/Documents/Proyectos/NLP/nlp-Rest-Mex-2022/env/lib/python3.8/site-packages/tensorflow_hub/resolver.py:418\u001b[0m, in \u001b[0;36matomic_download\u001b[0;34m(handle, download_fn, module_dir, lock_file_timeout_sec)\u001b[0m\n\u001b[1;32m    <a href='file:///mnt/c/Users/missa/Documents/Proyectos/NLP/nlp-Rest-Mex-2022/env/lib/python3.8/site-packages/tensorflow_hub/resolver.py?line=415'>416</a>\u001b[0m logging\u001b[39m.\u001b[39minfo(\u001b[39m\"\u001b[39m\u001b[39mDownloading TF-Hub Module \u001b[39m\u001b[39m'\u001b[39m\u001b[39m%s\u001b[39;00m\u001b[39m'\u001b[39m\u001b[39m.\u001b[39m\u001b[39m\"\u001b[39m, handle)\n\u001b[1;32m    <a href='file:///mnt/c/Users/missa/Documents/Proyectos/NLP/nlp-Rest-Mex-2022/env/lib/python3.8/site-packages/tensorflow_hub/resolver.py?line=416'>417</a>\u001b[0m tf\u001b[39m.\u001b[39mcompat\u001b[39m.\u001b[39mv1\u001b[39m.\u001b[39mgfile\u001b[39m.\u001b[39mMakeDirs(tmp_dir)\n\u001b[0;32m--> <a href='file:///mnt/c/Users/missa/Documents/Proyectos/NLP/nlp-Rest-Mex-2022/env/lib/python3.8/site-packages/tensorflow_hub/resolver.py?line=417'>418</a>\u001b[0m download_fn(handle, tmp_dir)\n\u001b[1;32m    <a href='file:///mnt/c/Users/missa/Documents/Proyectos/NLP/nlp-Rest-Mex-2022/env/lib/python3.8/site-packages/tensorflow_hub/resolver.py?line=418'>419</a>\u001b[0m \u001b[39m# Write module descriptor to capture information about which module was\u001b[39;00m\n\u001b[1;32m    <a href='file:///mnt/c/Users/missa/Documents/Proyectos/NLP/nlp-Rest-Mex-2022/env/lib/python3.8/site-packages/tensorflow_hub/resolver.py?line=419'>420</a>\u001b[0m \u001b[39m# downloaded by whom and when. The file stored at the same level as a\u001b[39;00m\n\u001b[1;32m    <a href='file:///mnt/c/Users/missa/Documents/Proyectos/NLP/nlp-Rest-Mex-2022/env/lib/python3.8/site-packages/tensorflow_hub/resolver.py?line=420'>421</a>\u001b[0m \u001b[39m# directory in order to keep the content of the 'model_dir' exactly as it\u001b[39;00m\n\u001b[0;32m   (...)\u001b[0m\n\u001b[1;32m    <a href='file:///mnt/c/Users/missa/Documents/Proyectos/NLP/nlp-Rest-Mex-2022/env/lib/python3.8/site-packages/tensorflow_hub/resolver.py?line=425'>426</a>\u001b[0m \u001b[39m# module caching protocol and no code in the TF-Hub library reads its\u001b[39;00m\n\u001b[1;32m    <a href='file:///mnt/c/Users/missa/Documents/Proyectos/NLP/nlp-Rest-Mex-2022/env/lib/python3.8/site-packages/tensorflow_hub/resolver.py?line=426'>427</a>\u001b[0m \u001b[39m# content.\u001b[39;00m\n\u001b[1;32m    <a href='file:///mnt/c/Users/missa/Documents/Proyectos/NLP/nlp-Rest-Mex-2022/env/lib/python3.8/site-packages/tensorflow_hub/resolver.py?line=427'>428</a>\u001b[0m _write_module_descriptor_file(handle, module_dir)\n",
      "File \u001b[0;32m/mnt/c/Users/missa/Documents/Proyectos/NLP/nlp-Rest-Mex-2022/env/lib/python3.8/site-packages/tensorflow_hub/compressed_module_resolver.py:63\u001b[0m, in \u001b[0;36mHttpCompressedFileResolver.__call__.<locals>.download\u001b[0;34m(handle, tmp_dir)\u001b[0m\n\u001b[1;32m     <a href='file:///mnt/c/Users/missa/Documents/Proyectos/NLP/nlp-Rest-Mex-2022/env/lib/python3.8/site-packages/tensorflow_hub/compressed_module_resolver.py?line=59'>60</a>\u001b[0m \u001b[39m\"\"\"Fetch a module via HTTP(S), handling redirect and download headers.\"\"\"\u001b[39;00m\n\u001b[1;32m     <a href='file:///mnt/c/Users/missa/Documents/Proyectos/NLP/nlp-Rest-Mex-2022/env/lib/python3.8/site-packages/tensorflow_hub/compressed_module_resolver.py?line=60'>61</a>\u001b[0m request \u001b[39m=\u001b[39m urllib\u001b[39m.\u001b[39mrequest\u001b[39m.\u001b[39mRequest(\n\u001b[1;32m     <a href='file:///mnt/c/Users/missa/Documents/Proyectos/NLP/nlp-Rest-Mex-2022/env/lib/python3.8/site-packages/tensorflow_hub/compressed_module_resolver.py?line=61'>62</a>\u001b[0m     \u001b[39mself\u001b[39m\u001b[39m.\u001b[39m_append_compressed_format_query(handle))\n\u001b[0;32m---> <a href='file:///mnt/c/Users/missa/Documents/Proyectos/NLP/nlp-Rest-Mex-2022/env/lib/python3.8/site-packages/tensorflow_hub/compressed_module_resolver.py?line=62'>63</a>\u001b[0m response \u001b[39m=\u001b[39m \u001b[39mself\u001b[39;49m\u001b[39m.\u001b[39;49m_call_urlopen(request)\n\u001b[1;32m     <a href='file:///mnt/c/Users/missa/Documents/Proyectos/NLP/nlp-Rest-Mex-2022/env/lib/python3.8/site-packages/tensorflow_hub/compressed_module_resolver.py?line=63'>64</a>\u001b[0m \u001b[39mreturn\u001b[39;00m resolver\u001b[39m.\u001b[39mDownloadManager(handle)\u001b[39m.\u001b[39mdownload_and_uncompress(\n\u001b[1;32m     <a href='file:///mnt/c/Users/missa/Documents/Proyectos/NLP/nlp-Rest-Mex-2022/env/lib/python3.8/site-packages/tensorflow_hub/compressed_module_resolver.py?line=64'>65</a>\u001b[0m     response, tmp_dir)\n",
      "File \u001b[0;32m/mnt/c/Users/missa/Documents/Proyectos/NLP/nlp-Rest-Mex-2022/env/lib/python3.8/site-packages/tensorflow_hub/resolver.py:522\u001b[0m, in \u001b[0;36mHttpResolverBase._call_urlopen\u001b[0;34m(self, request)\u001b[0m\n\u001b[1;32m    <a href='file:///mnt/c/Users/missa/Documents/Proyectos/NLP/nlp-Rest-Mex-2022/env/lib/python3.8/site-packages/tensorflow_hub/resolver.py?line=518'>519</a>\u001b[0m \u001b[39mdef\u001b[39;00m \u001b[39m_call_urlopen\u001b[39m(\u001b[39mself\u001b[39m, request):\n\u001b[1;32m    <a href='file:///mnt/c/Users/missa/Documents/Proyectos/NLP/nlp-Rest-Mex-2022/env/lib/python3.8/site-packages/tensorflow_hub/resolver.py?line=519'>520</a>\u001b[0m   \u001b[39m# Overriding this method allows setting SSL context in Python 3.\u001b[39;00m\n\u001b[1;32m    <a href='file:///mnt/c/Users/missa/Documents/Proyectos/NLP/nlp-Rest-Mex-2022/env/lib/python3.8/site-packages/tensorflow_hub/resolver.py?line=520'>521</a>\u001b[0m   \u001b[39mif\u001b[39;00m \u001b[39mself\u001b[39m\u001b[39m.\u001b[39m_context \u001b[39mis\u001b[39;00m \u001b[39mNone\u001b[39;00m:\n\u001b[0;32m--> <a href='file:///mnt/c/Users/missa/Documents/Proyectos/NLP/nlp-Rest-Mex-2022/env/lib/python3.8/site-packages/tensorflow_hub/resolver.py?line=521'>522</a>\u001b[0m     \u001b[39mreturn\u001b[39;00m urllib\u001b[39m.\u001b[39;49mrequest\u001b[39m.\u001b[39;49murlopen(request)\n\u001b[1;32m    <a href='file:///mnt/c/Users/missa/Documents/Proyectos/NLP/nlp-Rest-Mex-2022/env/lib/python3.8/site-packages/tensorflow_hub/resolver.py?line=522'>523</a>\u001b[0m   \u001b[39melse\u001b[39;00m:\n\u001b[1;32m    <a href='file:///mnt/c/Users/missa/Documents/Proyectos/NLP/nlp-Rest-Mex-2022/env/lib/python3.8/site-packages/tensorflow_hub/resolver.py?line=523'>524</a>\u001b[0m     \u001b[39mreturn\u001b[39;00m urllib\u001b[39m.\u001b[39mrequest\u001b[39m.\u001b[39murlopen(request, context\u001b[39m=\u001b[39m\u001b[39mself\u001b[39m\u001b[39m.\u001b[39m_context)\n",
      "File \u001b[0;32m/usr/lib/python3.8/urllib/request.py:222\u001b[0m, in \u001b[0;36murlopen\u001b[0;34m(url, data, timeout, cafile, capath, cadefault, context)\u001b[0m\n\u001b[1;32m    <a href='file:///usr/lib/python3.8/urllib/request.py?line=219'>220</a>\u001b[0m \u001b[39melse\u001b[39;00m:\n\u001b[1;32m    <a href='file:///usr/lib/python3.8/urllib/request.py?line=220'>221</a>\u001b[0m     opener \u001b[39m=\u001b[39m _opener\n\u001b[0;32m--> <a href='file:///usr/lib/python3.8/urllib/request.py?line=221'>222</a>\u001b[0m \u001b[39mreturn\u001b[39;00m opener\u001b[39m.\u001b[39;49mopen(url, data, timeout)\n",
      "File \u001b[0;32m/usr/lib/python3.8/urllib/request.py:525\u001b[0m, in \u001b[0;36mOpenerDirector.open\u001b[0;34m(self, fullurl, data, timeout)\u001b[0m\n\u001b[1;32m    <a href='file:///usr/lib/python3.8/urllib/request.py?line=521'>522</a>\u001b[0m     req \u001b[39m=\u001b[39m meth(req)\n\u001b[1;32m    <a href='file:///usr/lib/python3.8/urllib/request.py?line=523'>524</a>\u001b[0m sys\u001b[39m.\u001b[39maudit(\u001b[39m'\u001b[39m\u001b[39murllib.Request\u001b[39m\u001b[39m'\u001b[39m, req\u001b[39m.\u001b[39mfull_url, req\u001b[39m.\u001b[39mdata, req\u001b[39m.\u001b[39mheaders, req\u001b[39m.\u001b[39mget_method())\n\u001b[0;32m--> <a href='file:///usr/lib/python3.8/urllib/request.py?line=524'>525</a>\u001b[0m response \u001b[39m=\u001b[39m \u001b[39mself\u001b[39;49m\u001b[39m.\u001b[39;49m_open(req, data)\n\u001b[1;32m    <a href='file:///usr/lib/python3.8/urllib/request.py?line=526'>527</a>\u001b[0m \u001b[39m# post-process response\u001b[39;00m\n\u001b[1;32m    <a href='file:///usr/lib/python3.8/urllib/request.py?line=527'>528</a>\u001b[0m meth_name \u001b[39m=\u001b[39m protocol\u001b[39m+\u001b[39m\u001b[39m\"\u001b[39m\u001b[39m_response\u001b[39m\u001b[39m\"\u001b[39m\n",
      "File \u001b[0;32m/usr/lib/python3.8/urllib/request.py:542\u001b[0m, in \u001b[0;36mOpenerDirector._open\u001b[0;34m(self, req, data)\u001b[0m\n\u001b[1;32m    <a href='file:///usr/lib/python3.8/urllib/request.py?line=538'>539</a>\u001b[0m     \u001b[39mreturn\u001b[39;00m result\n\u001b[1;32m    <a href='file:///usr/lib/python3.8/urllib/request.py?line=540'>541</a>\u001b[0m protocol \u001b[39m=\u001b[39m req\u001b[39m.\u001b[39mtype\n\u001b[0;32m--> <a href='file:///usr/lib/python3.8/urllib/request.py?line=541'>542</a>\u001b[0m result \u001b[39m=\u001b[39m \u001b[39mself\u001b[39;49m\u001b[39m.\u001b[39;49m_call_chain(\u001b[39mself\u001b[39;49m\u001b[39m.\u001b[39;49mhandle_open, protocol, protocol \u001b[39m+\u001b[39;49m\n\u001b[1;32m    <a href='file:///usr/lib/python3.8/urllib/request.py?line=542'>543</a>\u001b[0m                           \u001b[39m'\u001b[39;49m\u001b[39m_open\u001b[39;49m\u001b[39m'\u001b[39;49m, req)\n\u001b[1;32m    <a href='file:///usr/lib/python3.8/urllib/request.py?line=543'>544</a>\u001b[0m \u001b[39mif\u001b[39;00m result:\n\u001b[1;32m    <a href='file:///usr/lib/python3.8/urllib/request.py?line=544'>545</a>\u001b[0m     \u001b[39mreturn\u001b[39;00m result\n",
      "File \u001b[0;32m/usr/lib/python3.8/urllib/request.py:502\u001b[0m, in \u001b[0;36mOpenerDirector._call_chain\u001b[0;34m(self, chain, kind, meth_name, *args)\u001b[0m\n\u001b[1;32m    <a href='file:///usr/lib/python3.8/urllib/request.py?line=499'>500</a>\u001b[0m \u001b[39mfor\u001b[39;00m handler \u001b[39min\u001b[39;00m handlers:\n\u001b[1;32m    <a href='file:///usr/lib/python3.8/urllib/request.py?line=500'>501</a>\u001b[0m     func \u001b[39m=\u001b[39m \u001b[39mgetattr\u001b[39m(handler, meth_name)\n\u001b[0;32m--> <a href='file:///usr/lib/python3.8/urllib/request.py?line=501'>502</a>\u001b[0m     result \u001b[39m=\u001b[39m func(\u001b[39m*\u001b[39;49margs)\n\u001b[1;32m    <a href='file:///usr/lib/python3.8/urllib/request.py?line=502'>503</a>\u001b[0m     \u001b[39mif\u001b[39;00m result \u001b[39mis\u001b[39;00m \u001b[39mnot\u001b[39;00m \u001b[39mNone\u001b[39;00m:\n\u001b[1;32m    <a href='file:///usr/lib/python3.8/urllib/request.py?line=503'>504</a>\u001b[0m         \u001b[39mreturn\u001b[39;00m result\n",
      "File \u001b[0;32m/usr/lib/python3.8/urllib/request.py:1397\u001b[0m, in \u001b[0;36mHTTPSHandler.https_open\u001b[0;34m(self, req)\u001b[0m\n\u001b[1;32m   <a href='file:///usr/lib/python3.8/urllib/request.py?line=1395'>1396</a>\u001b[0m \u001b[39mdef\u001b[39;00m \u001b[39mhttps_open\u001b[39m(\u001b[39mself\u001b[39m, req):\n\u001b[0;32m-> <a href='file:///usr/lib/python3.8/urllib/request.py?line=1396'>1397</a>\u001b[0m     \u001b[39mreturn\u001b[39;00m \u001b[39mself\u001b[39;49m\u001b[39m.\u001b[39;49mdo_open(http\u001b[39m.\u001b[39;49mclient\u001b[39m.\u001b[39;49mHTTPSConnection, req,\n\u001b[1;32m   <a href='file:///usr/lib/python3.8/urllib/request.py?line=1397'>1398</a>\u001b[0m         context\u001b[39m=\u001b[39;49m\u001b[39mself\u001b[39;49m\u001b[39m.\u001b[39;49m_context, check_hostname\u001b[39m=\u001b[39;49m\u001b[39mself\u001b[39;49m\u001b[39m.\u001b[39;49m_check_hostname)\n",
      "File \u001b[0;32m/usr/lib/python3.8/urllib/request.py:1354\u001b[0m, in \u001b[0;36mAbstractHTTPHandler.do_open\u001b[0;34m(self, http_class, req, **http_conn_args)\u001b[0m\n\u001b[1;32m   <a href='file:///usr/lib/python3.8/urllib/request.py?line=1351'>1352</a>\u001b[0m \u001b[39mtry\u001b[39;00m:\n\u001b[1;32m   <a href='file:///usr/lib/python3.8/urllib/request.py?line=1352'>1353</a>\u001b[0m     \u001b[39mtry\u001b[39;00m:\n\u001b[0;32m-> <a href='file:///usr/lib/python3.8/urllib/request.py?line=1353'>1354</a>\u001b[0m         h\u001b[39m.\u001b[39;49mrequest(req\u001b[39m.\u001b[39;49mget_method(), req\u001b[39m.\u001b[39;49mselector, req\u001b[39m.\u001b[39;49mdata, headers,\n\u001b[1;32m   <a href='file:///usr/lib/python3.8/urllib/request.py?line=1354'>1355</a>\u001b[0m                   encode_chunked\u001b[39m=\u001b[39;49mreq\u001b[39m.\u001b[39;49mhas_header(\u001b[39m'\u001b[39;49m\u001b[39mTransfer-encoding\u001b[39;49m\u001b[39m'\u001b[39;49m))\n\u001b[1;32m   <a href='file:///usr/lib/python3.8/urllib/request.py?line=1355'>1356</a>\u001b[0m     \u001b[39mexcept\u001b[39;00m \u001b[39mOSError\u001b[39;00m \u001b[39mas\u001b[39;00m err: \u001b[39m# timeout error\u001b[39;00m\n\u001b[1;32m   <a href='file:///usr/lib/python3.8/urllib/request.py?line=1356'>1357</a>\u001b[0m         \u001b[39mraise\u001b[39;00m URLError(err)\n",
      "File \u001b[0;32m/usr/lib/python3.8/http/client.py:1256\u001b[0m, in \u001b[0;36mHTTPConnection.request\u001b[0;34m(self, method, url, body, headers, encode_chunked)\u001b[0m\n\u001b[1;32m   <a href='file:///usr/lib/python3.8/http/client.py?line=1252'>1253</a>\u001b[0m \u001b[39mdef\u001b[39;00m \u001b[39mrequest\u001b[39m(\u001b[39mself\u001b[39m, method, url, body\u001b[39m=\u001b[39m\u001b[39mNone\u001b[39;00m, headers\u001b[39m=\u001b[39m{}, \u001b[39m*\u001b[39m,\n\u001b[1;32m   <a href='file:///usr/lib/python3.8/http/client.py?line=1253'>1254</a>\u001b[0m             encode_chunked\u001b[39m=\u001b[39m\u001b[39mFalse\u001b[39;00m):\n\u001b[1;32m   <a href='file:///usr/lib/python3.8/http/client.py?line=1254'>1255</a>\u001b[0m     \u001b[39m\"\"\"Send a complete request to the server.\"\"\"\u001b[39;00m\n\u001b[0;32m-> <a href='file:///usr/lib/python3.8/http/client.py?line=1255'>1256</a>\u001b[0m     \u001b[39mself\u001b[39;49m\u001b[39m.\u001b[39;49m_send_request(method, url, body, headers, encode_chunked)\n",
      "File \u001b[0;32m/usr/lib/python3.8/http/client.py:1302\u001b[0m, in \u001b[0;36mHTTPConnection._send_request\u001b[0;34m(self, method, url, body, headers, encode_chunked)\u001b[0m\n\u001b[1;32m   <a href='file:///usr/lib/python3.8/http/client.py?line=1297'>1298</a>\u001b[0m \u001b[39mif\u001b[39;00m \u001b[39misinstance\u001b[39m(body, \u001b[39mstr\u001b[39m):\n\u001b[1;32m   <a href='file:///usr/lib/python3.8/http/client.py?line=1298'>1299</a>\u001b[0m     \u001b[39m# RFC 2616 Section 3.7.1 says that text default has a\u001b[39;00m\n\u001b[1;32m   <a href='file:///usr/lib/python3.8/http/client.py?line=1299'>1300</a>\u001b[0m     \u001b[39m# default charset of iso-8859-1.\u001b[39;00m\n\u001b[1;32m   <a href='file:///usr/lib/python3.8/http/client.py?line=1300'>1301</a>\u001b[0m     body \u001b[39m=\u001b[39m _encode(body, \u001b[39m'\u001b[39m\u001b[39mbody\u001b[39m\u001b[39m'\u001b[39m)\n\u001b[0;32m-> <a href='file:///usr/lib/python3.8/http/client.py?line=1301'>1302</a>\u001b[0m \u001b[39mself\u001b[39;49m\u001b[39m.\u001b[39;49mendheaders(body, encode_chunked\u001b[39m=\u001b[39;49mencode_chunked)\n",
      "File \u001b[0;32m/usr/lib/python3.8/http/client.py:1251\u001b[0m, in \u001b[0;36mHTTPConnection.endheaders\u001b[0;34m(self, message_body, encode_chunked)\u001b[0m\n\u001b[1;32m   <a href='file:///usr/lib/python3.8/http/client.py?line=1248'>1249</a>\u001b[0m \u001b[39melse\u001b[39;00m:\n\u001b[1;32m   <a href='file:///usr/lib/python3.8/http/client.py?line=1249'>1250</a>\u001b[0m     \u001b[39mraise\u001b[39;00m CannotSendHeader()\n\u001b[0;32m-> <a href='file:///usr/lib/python3.8/http/client.py?line=1250'>1251</a>\u001b[0m \u001b[39mself\u001b[39;49m\u001b[39m.\u001b[39;49m_send_output(message_body, encode_chunked\u001b[39m=\u001b[39;49mencode_chunked)\n",
      "File \u001b[0;32m/usr/lib/python3.8/http/client.py:1011\u001b[0m, in \u001b[0;36mHTTPConnection._send_output\u001b[0;34m(self, message_body, encode_chunked)\u001b[0m\n\u001b[1;32m   <a href='file:///usr/lib/python3.8/http/client.py?line=1008'>1009</a>\u001b[0m msg \u001b[39m=\u001b[39m \u001b[39mb\u001b[39m\u001b[39m\"\u001b[39m\u001b[39m\\r\u001b[39;00m\u001b[39m\\n\u001b[39;00m\u001b[39m\"\u001b[39m\u001b[39m.\u001b[39mjoin(\u001b[39mself\u001b[39m\u001b[39m.\u001b[39m_buffer)\n\u001b[1;32m   <a href='file:///usr/lib/python3.8/http/client.py?line=1009'>1010</a>\u001b[0m \u001b[39mdel\u001b[39;00m \u001b[39mself\u001b[39m\u001b[39m.\u001b[39m_buffer[:]\n\u001b[0;32m-> <a href='file:///usr/lib/python3.8/http/client.py?line=1010'>1011</a>\u001b[0m \u001b[39mself\u001b[39;49m\u001b[39m.\u001b[39;49msend(msg)\n\u001b[1;32m   <a href='file:///usr/lib/python3.8/http/client.py?line=1012'>1013</a>\u001b[0m \u001b[39mif\u001b[39;00m message_body \u001b[39mis\u001b[39;00m \u001b[39mnot\u001b[39;00m \u001b[39mNone\u001b[39;00m:\n\u001b[1;32m   <a href='file:///usr/lib/python3.8/http/client.py?line=1013'>1014</a>\u001b[0m \n\u001b[1;32m   <a href='file:///usr/lib/python3.8/http/client.py?line=1014'>1015</a>\u001b[0m     \u001b[39m# create a consistent interface to message_body\u001b[39;00m\n\u001b[1;32m   <a href='file:///usr/lib/python3.8/http/client.py?line=1015'>1016</a>\u001b[0m     \u001b[39mif\u001b[39;00m \u001b[39mhasattr\u001b[39m(message_body, \u001b[39m'\u001b[39m\u001b[39mread\u001b[39m\u001b[39m'\u001b[39m):\n\u001b[1;32m   <a href='file:///usr/lib/python3.8/http/client.py?line=1016'>1017</a>\u001b[0m         \u001b[39m# Let file-like take precedence over byte-like.  This\u001b[39;00m\n\u001b[1;32m   <a href='file:///usr/lib/python3.8/http/client.py?line=1017'>1018</a>\u001b[0m         \u001b[39m# is needed to allow the current position of mmap'ed\u001b[39;00m\n\u001b[1;32m   <a href='file:///usr/lib/python3.8/http/client.py?line=1018'>1019</a>\u001b[0m         \u001b[39m# files to be taken into account.\u001b[39;00m\n",
      "File \u001b[0;32m/usr/lib/python3.8/http/client.py:951\u001b[0m, in \u001b[0;36mHTTPConnection.send\u001b[0;34m(self, data)\u001b[0m\n\u001b[1;32m    <a href='file:///usr/lib/python3.8/http/client.py?line=948'>949</a>\u001b[0m \u001b[39mif\u001b[39;00m \u001b[39mself\u001b[39m\u001b[39m.\u001b[39msock \u001b[39mis\u001b[39;00m \u001b[39mNone\u001b[39;00m:\n\u001b[1;32m    <a href='file:///usr/lib/python3.8/http/client.py?line=949'>950</a>\u001b[0m     \u001b[39mif\u001b[39;00m \u001b[39mself\u001b[39m\u001b[39m.\u001b[39mauto_open:\n\u001b[0;32m--> <a href='file:///usr/lib/python3.8/http/client.py?line=950'>951</a>\u001b[0m         \u001b[39mself\u001b[39;49m\u001b[39m.\u001b[39;49mconnect()\n\u001b[1;32m    <a href='file:///usr/lib/python3.8/http/client.py?line=951'>952</a>\u001b[0m     \u001b[39melse\u001b[39;00m:\n\u001b[1;32m    <a href='file:///usr/lib/python3.8/http/client.py?line=952'>953</a>\u001b[0m         \u001b[39mraise\u001b[39;00m NotConnected()\n",
      "File \u001b[0;32m/usr/lib/python3.8/http/client.py:1418\u001b[0m, in \u001b[0;36mHTTPSConnection.connect\u001b[0;34m(self)\u001b[0m\n\u001b[1;32m   <a href='file:///usr/lib/python3.8/http/client.py?line=1414'>1415</a>\u001b[0m \u001b[39mdef\u001b[39;00m \u001b[39mconnect\u001b[39m(\u001b[39mself\u001b[39m):\n\u001b[1;32m   <a href='file:///usr/lib/python3.8/http/client.py?line=1415'>1416</a>\u001b[0m     \u001b[39m\"\u001b[39m\u001b[39mConnect to a host on a given (SSL) port.\u001b[39m\u001b[39m\"\u001b[39m\n\u001b[0;32m-> <a href='file:///usr/lib/python3.8/http/client.py?line=1417'>1418</a>\u001b[0m     \u001b[39msuper\u001b[39;49m()\u001b[39m.\u001b[39;49mconnect()\n\u001b[1;32m   <a href='file:///usr/lib/python3.8/http/client.py?line=1419'>1420</a>\u001b[0m     \u001b[39mif\u001b[39;00m \u001b[39mself\u001b[39m\u001b[39m.\u001b[39m_tunnel_host:\n\u001b[1;32m   <a href='file:///usr/lib/python3.8/http/client.py?line=1420'>1421</a>\u001b[0m         server_hostname \u001b[39m=\u001b[39m \u001b[39mself\u001b[39m\u001b[39m.\u001b[39m_tunnel_host\n",
      "File \u001b[0;32m/usr/lib/python3.8/http/client.py:922\u001b[0m, in \u001b[0;36mHTTPConnection.connect\u001b[0;34m(self)\u001b[0m\n\u001b[1;32m    <a href='file:///usr/lib/python3.8/http/client.py?line=919'>920</a>\u001b[0m \u001b[39mdef\u001b[39;00m \u001b[39mconnect\u001b[39m(\u001b[39mself\u001b[39m):\n\u001b[1;32m    <a href='file:///usr/lib/python3.8/http/client.py?line=920'>921</a>\u001b[0m     \u001b[39m\"\"\"Connect to the host and port specified in __init__.\"\"\"\u001b[39;00m\n\u001b[0;32m--> <a href='file:///usr/lib/python3.8/http/client.py?line=921'>922</a>\u001b[0m     \u001b[39mself\u001b[39m\u001b[39m.\u001b[39msock \u001b[39m=\u001b[39m \u001b[39mself\u001b[39;49m\u001b[39m.\u001b[39;49m_create_connection(\n\u001b[1;32m    <a href='file:///usr/lib/python3.8/http/client.py?line=922'>923</a>\u001b[0m         (\u001b[39mself\u001b[39;49m\u001b[39m.\u001b[39;49mhost,\u001b[39mself\u001b[39;49m\u001b[39m.\u001b[39;49mport), \u001b[39mself\u001b[39;49m\u001b[39m.\u001b[39;49mtimeout, \u001b[39mself\u001b[39;49m\u001b[39m.\u001b[39;49msource_address)\n\u001b[1;32m    <a href='file:///usr/lib/python3.8/http/client.py?line=923'>924</a>\u001b[0m     \u001b[39mself\u001b[39m\u001b[39m.\u001b[39msock\u001b[39m.\u001b[39msetsockopt(socket\u001b[39m.\u001b[39mIPPROTO_TCP, socket\u001b[39m.\u001b[39mTCP_NODELAY, \u001b[39m1\u001b[39m)\n\u001b[1;32m    <a href='file:///usr/lib/python3.8/http/client.py?line=925'>926</a>\u001b[0m     \u001b[39mif\u001b[39;00m \u001b[39mself\u001b[39m\u001b[39m.\u001b[39m_tunnel_host:\n",
      "File \u001b[0;32m/usr/lib/python3.8/socket.py:796\u001b[0m, in \u001b[0;36mcreate_connection\u001b[0;34m(address, timeout, source_address)\u001b[0m\n\u001b[1;32m    <a href='file:///usr/lib/python3.8/socket.py?line=793'>794</a>\u001b[0m \u001b[39mif\u001b[39;00m source_address:\n\u001b[1;32m    <a href='file:///usr/lib/python3.8/socket.py?line=794'>795</a>\u001b[0m     sock\u001b[39m.\u001b[39mbind(source_address)\n\u001b[0;32m--> <a href='file:///usr/lib/python3.8/socket.py?line=795'>796</a>\u001b[0m sock\u001b[39m.\u001b[39;49mconnect(sa)\n\u001b[1;32m    <a href='file:///usr/lib/python3.8/socket.py?line=796'>797</a>\u001b[0m \u001b[39m# Break explicitly a reference cycle\u001b[39;00m\n\u001b[1;32m    <a href='file:///usr/lib/python3.8/socket.py?line=797'>798</a>\u001b[0m err \u001b[39m=\u001b[39m \u001b[39mNone\u001b[39;00m\n",
      "\u001b[0;31mKeyboardInterrupt\u001b[0m: "
     ]
    }
   ],
   "source": [
    "import tensorflow_hub as hub\n",
    "import tensorflow_text as text\n",
    "\n",
    "preprocessor = hub.KerasLayer(\"https://tfhub.dev/google/universal-sentence-encoder-cmlm/multilingual-preprocess/2\")\n",
    "encoder = hub.KerasLayer(\"https://tfhub.dev/google/universal-sentence-encoder-cmlm/multilingual-base/1\")\n"
   ]
  },
  {
   "cell_type": "code",
   "execution_count": null,
   "metadata": {},
   "outputs": [],
   "source": [
    "def get_embeddings(sentences):\n",
    "    '''return BERT-like embeddings of input text\n",
    "    Args:\n",
    "    - sentences: list of strings\n",
    "    Output:\n",
    "    - BERT-like embeddings: tf.Tensor of shape=(len(sentences), 768)\n",
    "    '''\n",
    "    preprocessed_text = preprocessor(sentences)\n",
    "    return encoder(preprocessed_text)['pooled_output']\n",
    "\n",
    "\n",
    "get_embeddings([\n",
    "    \"Questa collezione di Haiku è una porta aperta sulla cultura giapponese.\"]\n",
    ")"
   ]
  },
  {
   "cell_type": "code",
   "execution_count": null,
   "metadata": {},
   "outputs": [],
   "source": []
  }
 ],
 "metadata": {
  "interpreter": {
   "hash": "d6c02eaff949c00d7ce30ace5ed5ace2f93b71c2c32115b62cd9403cd69294d5"
  },
  "kernelspec": {
   "display_name": "Python 3.8.10 ('env': venv)",
   "language": "python",
   "name": "python3"
  },
  "language_info": {
   "codemirror_mode": {
    "name": "ipython",
    "version": 3
   },
   "file_extension": ".py",
   "mimetype": "text/x-python",
   "name": "python",
   "nbconvert_exporter": "python",
   "pygments_lexer": "ipython3",
   "version": "3.8.10"
  },
  "orig_nbformat": 4
 },
 "nbformat": 4,
 "nbformat_minor": 2
}
