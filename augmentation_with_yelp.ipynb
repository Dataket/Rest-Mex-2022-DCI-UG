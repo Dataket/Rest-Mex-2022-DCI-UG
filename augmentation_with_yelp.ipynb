{
 "cells": [
  {
   "cell_type": "markdown",
   "metadata": {},
   "source": [
    "- https://ubuntu.com/blog/getting-started-with-cuda-on-ubuntu-on-wsl-2\n",
    "- https://huggingface.co/nlptown/bert-base-multilingual-uncased-sentiment"
   ]
  },
  {
   "cell_type": "code",
   "execution_count": 66,
   "metadata": {},
   "outputs": [],
   "source": [
    "from googletrans import Translator # Translation library\n",
    "import json # JSON library\n",
    "import pandas as pd # data processing, CSV file I/O (e.g. pd.read_csv)\n",
    "import matplotlib.pyplot as plt # plotting\n",
    "import numpy as np # linear algebra\n",
    "import seaborn as sns # visualization\n",
    "import matplotlib as mpl\n",
    "\n",
    "\n",
    "# Set image resolution\n",
    "mpl.rcParams['figure.dpi'] = 300\n",
    "sns.set_theme()"
   ]
  },
  {
   "cell_type": "code",
   "execution_count": 67,
   "metadata": {},
   "outputs": [
    {
     "data": {
      "text/html": [
       "<div>\n",
       "<style scoped>\n",
       "    .dataframe tbody tr th:only-of-type {\n",
       "        vertical-align: middle;\n",
       "    }\n",
       "\n",
       "    .dataframe tbody tr th {\n",
       "        vertical-align: top;\n",
       "    }\n",
       "\n",
       "    .dataframe thead th {\n",
       "        text-align: right;\n",
       "    }\n",
       "</style>\n",
       "<table border=\"1\" class=\"dataframe\">\n",
       "  <thead>\n",
       "    <tr style=\"text-align: right;\">\n",
       "      <th></th>\n",
       "      <th>Title</th>\n",
       "      <th>Opinion</th>\n",
       "      <th>Polarity</th>\n",
       "      <th>Attraction</th>\n",
       "    </tr>\n",
       "  </thead>\n",
       "  <tbody>\n",
       "    <tr>\n",
       "      <th>0</th>\n",
       "      <td>Pésimo lugar</td>\n",
       "      <td>Piensen dos veces antes de ir a este hotel, te...</td>\n",
       "      <td>1.0</td>\n",
       "      <td>Hotel</td>\n",
       "    </tr>\n",
       "    <tr>\n",
       "      <th>1</th>\n",
       "      <td>No vayas a lugar de Eddie</td>\n",
       "      <td>Cuatro de nosotros fuimos recientemente a Eddi...</td>\n",
       "      <td>1.0</td>\n",
       "      <td>Restaurant</td>\n",
       "    </tr>\n",
       "    <tr>\n",
       "      <th>2</th>\n",
       "      <td>Mala relación calidad-precio</td>\n",
       "      <td>seguiré corta y simple: limpieza\\n- bad. Tengo...</td>\n",
       "      <td>1.0</td>\n",
       "      <td>Hotel</td>\n",
       "    </tr>\n",
       "    <tr>\n",
       "      <th>3</th>\n",
       "      <td>Minusválido? ¡No te alojes aquí!</td>\n",
       "      <td>Al reservar un hotel con multipropiedad Mayan ...</td>\n",
       "      <td>1.0</td>\n",
       "      <td>Hotel</td>\n",
       "    </tr>\n",
       "    <tr>\n",
       "      <th>4</th>\n",
       "      <td>Es una porqueria no pierdan su tiempo</td>\n",
       "      <td>No pierdan su tiempo ni dinero, venimos porque...</td>\n",
       "      <td>1.0</td>\n",
       "      <td>Hotel</td>\n",
       "    </tr>\n",
       "  </tbody>\n",
       "</table>\n",
       "</div>"
      ],
      "text/plain": [
       "                                   Title  \\\n",
       "0                           Pésimo lugar   \n",
       "1              No vayas a lugar de Eddie   \n",
       "2           Mala relación calidad-precio   \n",
       "3       Minusválido? ¡No te alojes aquí!   \n",
       "4  Es una porqueria no pierdan su tiempo   \n",
       "\n",
       "                                             Opinion  Polarity  Attraction  \n",
       "0  Piensen dos veces antes de ir a este hotel, te...       1.0       Hotel  \n",
       "1  Cuatro de nosotros fuimos recientemente a Eddi...       1.0  Restaurant  \n",
       "2  seguiré corta y simple: limpieza\\n- bad. Tengo...       1.0       Hotel  \n",
       "3  Al reservar un hotel con multipropiedad Mayan ...       1.0       Hotel  \n",
       "4  No pierdan su tiempo ni dinero, venimos porque...       1.0       Hotel  "
      ]
     },
     "execution_count": 67,
     "metadata": {},
     "output_type": "execute_result"
    }
   ],
   "source": [
    "data = pd.read_excel('data/train_sentiment_analysis.xlsx')\n",
    "data.head(5)"
   ]
  },
  {
   "cell_type": "code",
   "execution_count": 68,
   "metadata": {},
   "outputs": [
    {
     "name": "stdout",
     "output_type": "stream",
     "text": [
      "Number of hotels: 16565\n",
      "Number of restaurants: 8450\n",
      "Number of reviews: 30212\n"
     ]
    }
   ],
   "source": [
    "n_hotel = len(data[data['Attraction'] == 'Hotel'])\n",
    "n_rest = len(data[data['Attraction'] == 'Restaurant'])\n",
    "n = len(data)\n",
    "\n",
    "print(f'Number of hotels: {n_hotel}')\n",
    "print(f'Number of restaurants: {n_rest}')\n",
    "print(f'Number of reviews: {n}')"
   ]
  },
  {
   "cell_type": "code",
   "execution_count": 69,
   "metadata": {},
   "outputs": [
    {
     "name": "stdout",
     "output_type": "stream",
     "text": [
      "Hotels with label 1.0: 259\n",
      "Hotels with label 2.0: 307\n",
      "Hotels with label 3.0: 768\n",
      "Hotels with label 4.0: 2339\n",
      "Hotels with label 5.0: 12892\n",
      "Restaurants with label 1.0: 208\n",
      "Restaurants with label 2.0: 278\n",
      "Restaurants with label 3.0: 667\n",
      "Restaurants with label 4.0: 1943\n",
      "Restaurants with label 5.0: 5354\n",
      "Reviews with label 1.0: 547\n",
      "Reviews with label 2.0: 730\n",
      "Reviews with label 3.0: 2121\n",
      "Reviews with label 4.0: 5878\n",
      "Reviews with label 5.0: 20936\n"
     ]
    }
   ],
   "source": [
    "count_hotel_label = {}\n",
    "for label in data.Polarity.unique():\n",
    "    count_hotel_label[label] = len(data[(data['Attraction'] == 'Hotel') & (data['Polarity'] == label)])\n",
    "    print(f'Hotels with label {label}: {count_hotel_label[label]}')\n",
    "\n",
    "count_rest_label = {}\n",
    "for label in data.Polarity.unique():\n",
    "    count_rest_label[label] = len(data[(data['Attraction'] == 'Restaurant') & (data['Polarity'] == label)])\n",
    "    print(f'Restaurants with label {label}: {count_rest_label[label]}')\n",
    "\n",
    "count_label = {}\n",
    "for label in data.Polarity.unique():\n",
    "    count_label[label] = len(data[data['Polarity'] == label])\n",
    "    print(f'Reviews with label {label}: {count_label[label]}')"
   ]
  },
  {
   "cell_type": "code",
   "execution_count": 90,
   "metadata": {},
   "outputs": [
    {
     "data": {
      "image/png": "[encoded data removed]",
      "text/plain": [
       "<Figure size 1200x900 with 1 Axes>"
      ]
     },
     "metadata": {},
     "output_type": "display_data"
    }
   ],
   "source": [
    "fig, ax = plt.subplots(figsize=(4,3))\n",
    "\n",
    "ax.hist(data['Polarity'], bins=[0.001, 1.001, 2.001, 3.001, 4.001, 5.001], color = '#f98948')\n",
    "ax.set_title('Polarity distribution - Original data.')\n",
    "ax.set_xlabel('Polarity')\n",
    "ax.set_ylabel('Number of reviews')\n",
    "ax.grid(True)\n",
    "ax.set_yticks([0, 10000, 20000], [0, '10k', '20k'])\n",
    "ax.set_xticks([0.5, 1.5, 2.5, 3.5, 4.5], [1, 2, 3, 4, 5])\n",
    "plt.tight_layout()\n",
    "plt.savefig('images/polarity_distribution_original.png')"
   ]
  },
  {
   "cell_type": "code",
   "execution_count": 136,
   "metadata": {},
   "outputs": [],
   "source": [
    "# Generator for getting lines from json file\n",
    "def get_line(path):\n",
    "    with open(path) as a_file:\n",
    "        for line in a_file:\n",
    "            yield line"
   ]
  },
  {
   "cell_type": "code",
   "execution_count": 137,
   "metadata": {},
   "outputs": [],
   "source": [
    "review_path = 'data/yelp/yelp_academic_dataset_review.json'\n",
    "business_path = 'data/yelp/yelp_academic_dataset_business.json'"
   ]
  },
  {
   "cell_type": "code",
   "execution_count": 138,
   "metadata": {},
   "outputs": [
    {
     "data": {
      "text/plain": [
       "{'business_id': 'Pns2l4eNsfO8kk83dixA6A',\n",
       " 'name': 'Abby Rappoport, LAC, CMQ',\n",
       " 'address': '1616 Chapala St, Ste 2',\n",
       " 'city': 'Santa Barbara',\n",
       " 'state': 'CA',\n",
       " 'postal_code': '93101',\n",
       " 'latitude': 34.4266787,\n",
       " 'longitude': -119.7111968,\n",
       " 'stars': 5.0,\n",
       " 'review_count': 7,\n",
       " 'is_open': 0,\n",
       " 'attributes': {'ByAppointmentOnly': 'True'},\n",
       " 'categories': 'Doctors, Traditional Chinese Medicine, Naturopathic/Holistic, Acupuncture, Health & Medical, Nutritionists',\n",
       " 'hours': None}"
      ]
     },
     "execution_count": 138,
     "metadata": {},
     "output_type": "execute_result"
    }
   ],
   "source": [
    "# Open business dataset\n",
    "business_list = []\n",
    "with open(business_path) as a_file:\n",
    "    for line in a_file:\n",
    "        business_list.append(json.loads(line))\n",
    "\n",
    "business_list[0]"
   ]
  },
  {
   "cell_type": "code",
   "execution_count": 139,
   "metadata": {},
   "outputs": [],
   "source": [
    "restaurant_id = []\n",
    "hotel_id = []\n",
    "\n",
    "for business in business_list:\n",
    "    categories = business['categories']\n",
    "    if categories:\n",
    "        categories = categories.split(',')\n",
    "        if 'Restaurants' in categories:\n",
    "            restaurant_id.append(business['business_id'])\n",
    "        if 'Hotels' in categories:\n",
    "            hotel_id.append(business['business_id'])\n",
    "\n",
    "del business_list"
   ]
  },
  {
   "cell_type": "code",
   "execution_count": 140,
   "metadata": {},
   "outputs": [
    {
     "name": "stdout",
     "output_type": "stream",
     "text": [
      "15290 836\n",
      "xM6LoUcnpDpMBzXs_7dXAg\n"
     ]
    }
   ],
   "source": [
    "print(len(restaurant_id), len(hotel_id))\n",
    "print(hotel_id[0])"
   ]
  },
  {
   "cell_type": "code",
   "execution_count": 141,
   "metadata": {},
   "outputs": [
    {
     "data": {
      "text/plain": [
       "{'review_id': 'KU_O5udG6zpxOg-VcAEodg',\n",
       " 'user_id': 'mh_-eMZ6K5RLWhZyISBhwA',\n",
       " 'business_id': 'XQfwVwDr-v0ZS3_CbbE5Xw',\n",
       " 'stars': 3.0,\n",
       " 'useful': 0,\n",
       " 'funny': 0,\n",
       " 'cool': 0,\n",
       " 'text': \"If you decide to eat here, just be aware it is going to take about 2 hours from beginning to end. We have tried it multiple times, because I want to like it! I have been to it's other locations in NJ and never had a bad experience. \\n\\nThe food is good, but it takes a very long time to come out. The waitstaff is very young, but usually pleasant. We have just had too many experiences where we spent way too long waiting. We usually opt for another diner or restaurant on the weekends, in order to be done quicker.\",\n",
       " 'date': '2018-07-07 22:09:11'}"
      ]
     },
     "execution_count": 141,
     "metadata": {},
     "output_type": "execute_result"
    }
   ],
   "source": [
    "reviews = get_line(review_path) # Generator for getting reviews\n",
    "review = json.loads(next(reviews)) # Review example\n",
    "\n",
    "review"
   ]
  },
  {
   "cell_type": "code",
   "execution_count": 142,
   "metadata": {},
   "outputs": [
    {
     "data": {
      "text/html": [
       "<div>\n",
       "<style scoped>\n",
       "    .dataframe tbody tr th:only-of-type {\n",
       "        vertical-align: middle;\n",
       "    }\n",
       "\n",
       "    .dataframe tbody tr th {\n",
       "        vertical-align: top;\n",
       "    }\n",
       "\n",
       "    .dataframe thead th {\n",
       "        text-align: right;\n",
       "    }\n",
       "</style>\n",
       "<table border=\"1\" class=\"dataframe\">\n",
       "  <thead>\n",
       "    <tr style=\"text-align: right;\">\n",
       "      <th></th>\n",
       "      <th>Attraction</th>\n",
       "      <th>Opinion</th>\n",
       "      <th>Polarity</th>\n",
       "    </tr>\n",
       "  </thead>\n",
       "  <tbody>\n",
       "  </tbody>\n",
       "</table>\n",
       "</div>"
      ],
      "text/plain": [
       "Empty DataFrame\n",
       "Columns: [Attraction, Opinion, Polarity]\n",
       "Index: []"
      ]
     },
     "execution_count": 142,
     "metadata": {},
     "output_type": "execute_result"
    }
   ],
   "source": [
    "yelp_df = pd.DataFrame(columns=['Attraction', 'Opinion', 'Polarity'])\n",
    "yelp_df"
   ]
  },
  {
   "cell_type": "code",
   "execution_count": 143,
   "metadata": {},
   "outputs": [
    {
     "name": "stdout",
     "output_type": "stream",
     "text": [
      "Added 49900 reviews\n",
      "{1.0: 11519, 2.0: 5647, 3.0: 6398, 4.0: 11689, 5.0: 12892}\n",
      "{1.0: 5354, 2.0: 5354, 3.0: 5354, 4.0: 5354, 5.0: 5354}\n",
      "No more reviews\n"
     ]
    }
   ],
   "source": [
    "# Max number of reviews per label\n",
    "top_hotel = max(count_hotel_label.values()) # Hotels\n",
    "top_rest = max(count_rest_label.values()) # Restaurants\n",
    "top = max(count_label.values()) # All reviews\n",
    "\n",
    "count = 0 # Number of reviews added\n",
    "\n",
    "# While labels invalanced...\n",
    "while (min(count_hotel_label.values()) < top_hotel) or (min(count_rest_label.values()) < top_rest):\n",
    "    try:\n",
    "        review = json.loads(next(reviews)) # Load next review\n",
    "    except StopIteration:\n",
    "        print('No more reviews')\n",
    "        break\n",
    "\n",
    "    id = review['business_id'] # Get business id\n",
    "\n",
    "    # If id hotel or restaurant and label is not top yet...\n",
    "    if (id in hotel_id and count_hotel_label[review['stars']]<top_hotel)\\\n",
    "        or (id in restaurant_id and count_rest_label[review['stars']]<top_rest):\n",
    "\n",
    "        count += 1 # Update count\n",
    "\n",
    "        # Review dictionary to add to dataframe\n",
    "        review_dict = {'Attraction': None,\n",
    "                        'Opinion': review['text'],\n",
    "                        'Polarity': review['stars']}\n",
    "\n",
    "        # Count hotel or restaurant\n",
    "        if review['business_id'] in hotel_id:\n",
    "            review_dict['Attraction'] = 'Hotel'\n",
    "            count_hotel_label[review['stars']] += 1\n",
    "            count_label[review['stars']] += 1\n",
    "        else:\n",
    "            review_dict['Attraction'] = 'Restaurant'\n",
    "            count_rest_label[review['stars']] += 1\n",
    "            count_label[review['stars']] += 1\n",
    "\n",
    "        # Add review to dataframe\n",
    "        yelp_df = pd.concat([yelp_df, pd.DataFrame(review_dict, index=[0])])\n",
    "        if count % 100 == 0:\n",
    "            clear_output(wait=True)\n",
    "            print(f'Added {count} reviews')\n",
    "            print(count_hotel_label)\n",
    "            print(count_rest_label)"
   ]
  },
  {
   "cell_type": "code",
   "execution_count": 144,
   "metadata": {},
   "outputs": [
    {
     "name": "stdout",
     "output_type": "stream",
     "text": [
      "49919\n"
     ]
    },
    {
     "data": {
      "text/html": [
       "<div>\n",
       "<style scoped>\n",
       "    .dataframe tbody tr th:only-of-type {\n",
       "        vertical-align: middle;\n",
       "    }\n",
       "\n",
       "    .dataframe tbody tr th {\n",
       "        vertical-align: top;\n",
       "    }\n",
       "\n",
       "    .dataframe thead th {\n",
       "        text-align: right;\n",
       "    }\n",
       "</style>\n",
       "<table border=\"1\" class=\"dataframe\">\n",
       "  <thead>\n",
       "    <tr style=\"text-align: right;\">\n",
       "      <th></th>\n",
       "      <th>Attraction</th>\n",
       "      <th>Opinion</th>\n",
       "      <th>Polarity</th>\n",
       "    </tr>\n",
       "  </thead>\n",
       "  <tbody>\n",
       "    <tr>\n",
       "      <th>0</th>\n",
       "      <td>Restaurant</td>\n",
       "      <td>Family diner. Had the buffet. Eclectic assortm...</td>\n",
       "      <td>3.0</td>\n",
       "    </tr>\n",
       "    <tr>\n",
       "      <th>0</th>\n",
       "      <td>Restaurant</td>\n",
       "      <td>The bun makes the Sonoran Dog. It's like a snu...</td>\n",
       "      <td>4.0</td>\n",
       "    </tr>\n",
       "    <tr>\n",
       "      <th>0</th>\n",
       "      <td>Restaurant</td>\n",
       "      <td>Yes, this is the only sushi place in town. How...</td>\n",
       "      <td>4.0</td>\n",
       "    </tr>\n",
       "    <tr>\n",
       "      <th>0</th>\n",
       "      <td>Restaurant</td>\n",
       "      <td>I was really between 3 and 4 stars for this on...</td>\n",
       "      <td>4.0</td>\n",
       "    </tr>\n",
       "    <tr>\n",
       "      <th>0</th>\n",
       "      <td>Hotel</td>\n",
       "      <td>Comfortable bed, good breakfast, fast internet...</td>\n",
       "      <td>4.0</td>\n",
       "    </tr>\n",
       "  </tbody>\n",
       "</table>\n",
       "</div>"
      ],
      "text/plain": [
       "   Attraction                                            Opinion Polarity\n",
       "0  Restaurant  Family diner. Had the buffet. Eclectic assortm...      3.0\n",
       "0  Restaurant  The bun makes the Sonoran Dog. It's like a snu...      4.0\n",
       "0  Restaurant  Yes, this is the only sushi place in town. How...      4.0\n",
       "0  Restaurant  I was really between 3 and 4 stars for this on...      4.0\n",
       "0       Hotel  Comfortable bed, good breakfast, fast internet...      4.0"
      ]
     },
     "execution_count": 144,
     "metadata": {},
     "output_type": "execute_result"
    }
   ],
   "source": [
    "print(len(yelp_df))\n",
    "yelp_df.head(5)"
   ]
  },
  {
   "cell_type": "code",
   "execution_count": 145,
   "metadata": {},
   "outputs": [
    {
     "data": {
      "text/plain": [
       "[]"
      ]
     },
     "execution_count": 145,
     "metadata": {},
     "output_type": "execute_result"
    },
    {
     "data": {
      "image/png": "[encoded data removed]",
      "text/plain": [
       "<Figure size 432x288 with 1 Axes>"
      ]
     },
     "metadata": {},
     "output_type": "display_data"
    }
   ],
   "source": [
    "plt.hist(yelp_df[yelp_df['Attraction'] == 'Hotel']['Polarity'], bins=4)\n",
    "plt.plot()"
   ]
  },
  {
   "cell_type": "code",
   "execution_count": 146,
   "metadata": {},
   "outputs": [
    {
     "data": {
      "text/plain": [
       "[]"
      ]
     },
     "execution_count": 146,
     "metadata": {},
     "output_type": "execute_result"
    },
    {
     "data": {
      "image/png": "[encoded data removed]",
      "text/plain": [
       "<Figure size 432x288 with 1 Axes>"
      ]
     },
     "metadata": {},
     "output_type": "display_data"
    }
   ],
   "source": [
    "plt.hist(yelp_df[yelp_df['Attraction'] == 'Restaurant']['Polarity'], bins=4)\n",
    "plt.plot()"
   ]
  },
  {
   "cell_type": "code",
   "execution_count": 147,
   "metadata": {},
   "outputs": [],
   "source": [
    "# Save dataset\n",
    "# yelp_df.to_csv('data/yelp_df_augmented.csv')"
   ]
  },
  {
   "cell_type": "code",
   "execution_count": 164,
   "metadata": {},
   "outputs": [],
   "source": [
    "# Add empty column for translation\n",
    "yelp_df['Translation'] = [None for i in range(len(yelp_df))]"
   ]
  },
  {
   "cell_type": "code",
   "execution_count": 168,
   "metadata": {},
   "outputs": [
    {
     "name": "stdout",
     "output_type": "stream",
     "text": [
      "12479 12480 12480 12480\n"
     ]
    }
   ],
   "source": [
    "# Split in 4 datasets\n",
    "yelp_df_1 = yelp_df[:int(len(yelp_df)/4)]\n",
    "yelp_df_2 = yelp_df[int(len(yelp_df)/4):int(len(yelp_df)/2)]\n",
    "yelp_df_3 = yelp_df[int(len(yelp_df)/2):int(len(yelp_df)*3/4)]\n",
    "yelp_df_4 = yelp_df[int(len(yelp_df)*3/4):]\n",
    "\n",
    "# Check length\n",
    "print(len(yelp_df_1), len(yelp_df_2), len(yelp_df_3), len(yelp_df_4))"
   ]
  },
  {
   "cell_type": "code",
   "execution_count": 169,
   "metadata": {},
   "outputs": [],
   "source": [
    "# Save datasets\n",
    "yelp_df_1.to_csv('data/augmentation/yelp_df_1.csv')\n",
    "yelp_df_2.to_csv('data/augmentation/yelp_df_2.csv')\n",
    "yelp_df_3.to_csv('data/augmentation/yelp_df_3.csv')\n",
    "yelp_df_4.to_csv('data/augmentation/yelp_df_4.csv')"
   ]
  },
  {
   "cell_type": "code",
   "execution_count": 171,
   "metadata": {},
   "outputs": [
    {
     "data": {
      "text/html": [
       "<div>\n",
       "<style scoped>\n",
       "    .dataframe tbody tr th:only-of-type {\n",
       "        vertical-align: middle;\n",
       "    }\n",
       "\n",
       "    .dataframe tbody tr th {\n",
       "        vertical-align: top;\n",
       "    }\n",
       "\n",
       "    .dataframe thead th {\n",
       "        text-align: right;\n",
       "    }\n",
       "</style>\n",
       "<table border=\"1\" class=\"dataframe\">\n",
       "  <thead>\n",
       "    <tr style=\"text-align: right;\">\n",
       "      <th></th>\n",
       "      <th>Attraction</th>\n",
       "      <th>Opinion</th>\n",
       "      <th>Polarity</th>\n",
       "      <th>Translation</th>\n",
       "    </tr>\n",
       "  </thead>\n",
       "  <tbody>\n",
       "    <tr>\n",
       "      <th>0</th>\n",
       "      <td>Restaurant</td>\n",
       "      <td>Family diner. Had the buffet. Eclectic assortm...</td>\n",
       "      <td>3.0</td>\n",
       "      <td>None</td>\n",
       "    </tr>\n",
       "    <tr>\n",
       "      <th>0</th>\n",
       "      <td>Restaurant</td>\n",
       "      <td>The bun makes the Sonoran Dog. It's like a snu...</td>\n",
       "      <td>4.0</td>\n",
       "      <td>None</td>\n",
       "    </tr>\n",
       "    <tr>\n",
       "      <th>0</th>\n",
       "      <td>Restaurant</td>\n",
       "      <td>Yes, this is the only sushi place in town. How...</td>\n",
       "      <td>4.0</td>\n",
       "      <td>None</td>\n",
       "    </tr>\n",
       "    <tr>\n",
       "      <th>0</th>\n",
       "      <td>Restaurant</td>\n",
       "      <td>I was really between 3 and 4 stars for this on...</td>\n",
       "      <td>4.0</td>\n",
       "      <td>None</td>\n",
       "    </tr>\n",
       "    <tr>\n",
       "      <th>0</th>\n",
       "      <td>Hotel</td>\n",
       "      <td>Comfortable bed, good breakfast, fast internet...</td>\n",
       "      <td>4.0</td>\n",
       "      <td>None</td>\n",
       "    </tr>\n",
       "  </tbody>\n",
       "</table>\n",
       "</div>"
      ],
      "text/plain": [
       "   Attraction                                            Opinion Polarity  \\\n",
       "0  Restaurant  Family diner. Had the buffet. Eclectic assortm...      3.0   \n",
       "0  Restaurant  The bun makes the Sonoran Dog. It's like a snu...      4.0   \n",
       "0  Restaurant  Yes, this is the only sushi place in town. How...      4.0   \n",
       "0  Restaurant  I was really between 3 and 4 stars for this on...      4.0   \n",
       "0       Hotel  Comfortable bed, good breakfast, fast internet...      4.0   \n",
       "\n",
       "  Translation  \n",
       "0        None  \n",
       "0        None  \n",
       "0        None  \n",
       "0        None  \n",
       "0        None  "
      ]
     },
     "execution_count": 171,
     "metadata": {},
     "output_type": "execute_result"
    }
   ],
   "source": [
    "yelp_df_1.head(5)"
   ]
  },
  {
   "cell_type": "markdown",
   "metadata": {},
   "source": [
    "## Translation"
   ]
  },
  {
   "cell_type": "code",
   "execution_count": 2,
   "metadata": {},
   "outputs": [],
   "source": [
    "# Save augmented data\n",
    "# aug_data.to_csv('data/aug_data.csv', index=False)\n",
    "data = pd.read_csv('data/augmentation/yelp_df_2.csv')"
   ]
  },
  {
   "cell_type": "code",
   "execution_count": 3,
   "metadata": {},
   "outputs": [
    {
     "name": "stdout",
     "output_type": "stream",
     "text": [
      "0 12480\n"
     ]
    }
   ],
   "source": [
    "# Count translated reviews\n",
    "count_translated = 0\n",
    "for review in data['Translation']:\n",
    "    if type(review) == str:\n",
    "        count_translated += 1\n",
    "\n",
    "print(count_translated, len(data))"
   ]
  },
  {
   "cell_type": "code",
   "execution_count": 5,
   "metadata": {},
   "outputs": [
    {
     "data": {
      "text/plain": [
       "'Esto es una prueba'"
      ]
     },
     "execution_count": 5,
     "metadata": {},
     "output_type": "execute_result"
    }
   ],
   "source": [
    "from googletrans import Translator # Translation library\n",
    "translator = Translator()\n",
    "\n",
    "# Example\n",
    "translator.translate('This is a test', src='en', dest='es').text"
   ]
  },
  {
   "cell_type": "code",
   "execution_count": 15,
   "metadata": {},
   "outputs": [
    {
     "data": {
      "text/html": [
       "<div>\n",
       "<style scoped>\n",
       "    .dataframe tbody tr th:only-of-type {\n",
       "        vertical-align: middle;\n",
       "    }\n",
       "\n",
       "    .dataframe tbody tr th {\n",
       "        vertical-align: top;\n",
       "    }\n",
       "\n",
       "    .dataframe thead th {\n",
       "        text-align: right;\n",
       "    }\n",
       "</style>\n",
       "<table border=\"1\" class=\"dataframe\">\n",
       "  <thead>\n",
       "    <tr style=\"text-align: right;\">\n",
       "      <th></th>\n",
       "      <th>Unnamed: 0</th>\n",
       "      <th>Attraction</th>\n",
       "      <th>Opinion</th>\n",
       "      <th>Polarity</th>\n",
       "      <th>Translation</th>\n",
       "    </tr>\n",
       "  </thead>\n",
       "  <tbody>\n",
       "    <tr>\n",
       "      <th>0</th>\n",
       "      <td>0</td>\n",
       "      <td>Hotel</td>\n",
       "      <td>Great location. Clean. Old Florida feel only c...</td>\n",
       "      <td>4.0</td>\n",
       "      <td>NaN</td>\n",
       "    </tr>\n",
       "    <tr>\n",
       "      <th>1</th>\n",
       "      <td>0</td>\n",
       "      <td>Hotel</td>\n",
       "      <td>A comfortable stay! Friendly service &amp; clean r...</td>\n",
       "      <td>4.0</td>\n",
       "      <td>NaN</td>\n",
       "    </tr>\n",
       "    <tr>\n",
       "      <th>2</th>\n",
       "      <td>0</td>\n",
       "      <td>Hotel</td>\n",
       "      <td>Hotel is in a great location, the bed was supe...</td>\n",
       "      <td>3.0</td>\n",
       "      <td>NaN</td>\n",
       "    </tr>\n",
       "    <tr>\n",
       "      <th>3</th>\n",
       "      <td>0</td>\n",
       "      <td>Hotel</td>\n",
       "      <td>Like many others, I had a sub-optimal experien...</td>\n",
       "      <td>2.0</td>\n",
       "      <td>NaN</td>\n",
       "    </tr>\n",
       "    <tr>\n",
       "      <th>4</th>\n",
       "      <td>0</td>\n",
       "      <td>Hotel</td>\n",
       "      <td>This is your standard Hampton Inn - the rates ...</td>\n",
       "      <td>4.0</td>\n",
       "      <td>NaN</td>\n",
       "    </tr>\n",
       "  </tbody>\n",
       "</table>\n",
       "</div>"
      ],
      "text/plain": [
       "   Unnamed: 0 Attraction                                            Opinion  \\\n",
       "0           0      Hotel  Great location. Clean. Old Florida feel only c...   \n",
       "1           0      Hotel  A comfortable stay! Friendly service & clean r...   \n",
       "2           0      Hotel  Hotel is in a great location, the bed was supe...   \n",
       "3           0      Hotel  Like many others, I had a sub-optimal experien...   \n",
       "4           0      Hotel  This is your standard Hampton Inn - the rates ...   \n",
       "\n",
       "   Polarity  Translation  \n",
       "0       4.0          NaN  \n",
       "1       4.0          NaN  \n",
       "2       3.0          NaN  \n",
       "3       2.0          NaN  \n",
       "4       4.0          NaN  "
      ]
     },
     "execution_count": 15,
     "metadata": {},
     "output_type": "execute_result"
    }
   ],
   "source": [
    "data.head()"
   ]
  },
  {
   "cell_type": "code",
   "execution_count": 16,
   "metadata": {},
   "outputs": [
    {
     "name": "stdout",
     "output_type": "stream",
     "text": [
      "Great location. Clean. Old Florida feel only complaint is bed had dip in and not very comfy.\n",
      "Error\n"
     ]
    }
   ],
   "source": [
    "from googletrans import Translator # Translation library\n",
    "from IPython.display import clear_output # clear output\n",
    "import pandas as pd # data processing, CSV file I/O (e.g. pd.read_csv)\n",
    "\n",
    "translator = Translator() # Create translator object\n",
    "\n",
    "# Example\n",
    "translator.translate('This is a test', src='en', dest='es').text\n",
    "\n",
    "# Load data to translate\n",
    "data = pd.read_csv('data/augmentation/yelp_df_3.csv')\n",
    "\n",
    "# SI HAY UN ERROR, COMENTA EL ANTERIOR Y CARGA DONDE SE QUEDO, AQUI:\n",
    "# data = pd.read_csv('data/augmentation/yelp_df_3_translated.csv')\n",
    "\n",
    "# Translate and save\n",
    "\n",
    "count = 0 # Number of reviews translated\n",
    "for id in data.index:\n",
    "    if type(data.at[id, 'Translation']) != str: # If translation not done yet\n",
    "        opinion = str(data.at[id, 'Opinion'])\n",
    "\n",
    "        if len(opinion) > 5000:  # Translate should be less than 5000 characters\n",
    "            opinion = opinion[:5000].copy()\n",
    "\n",
    "        # Try to translate, otherwise save dataframe in current state\n",
    "        try:\n",
    "            data.at[id, 'Translation'] = translator.translate(opinion, src='en', dest='es').text\n",
    "        except:\n",
    "            data.to_csv('data/augmentation/yelp_df_4_translated.csv', index=False)\n",
    "            print('Error')\n",
    "            break\n",
    "\n",
    "        count += 1 # Update count\n",
    "\n",
    "        # Every 100 translations, show progress and save dataframe\n",
    "        if count % 100 == 0:\n",
    "            # Save augmented data\n",
    "            data.to_csv('data/augmentation/yelp_df_4_translated.csv', index=False)\n",
    "            print(f'{count} reviews translated')\n",
    "            clear_output(wait=True)\n",
    "\n",
    "# If translation was successful, save dataframe\n",
    "data.to_csv('data/augmentation/yelp_df_4_translated.csv', index=False)\n"
   ]
  },
  {
   "cell_type": "markdown",
   "metadata": {},
   "source": [
    "TO-DO:\n",
    "1. Separar augmented dataset a hoteles y restaurantes (solamente fijarnos en esas dos categorias).\n",
    "2. Vamos a hacer dos clasificadores:\n",
    "    - Uno para hoteles y otro para restaurantes.\n",
    "3. Datos originales: Separa desde antes 80/20, 20% para validación. Entrenar multilingual pero evaluar solo en el validation en español."
   ]
  },
  {
   "cell_type": "code",
   "execution_count": 9,
   "metadata": {},
   "outputs": [],
   "source": [
    "files = ['data/augmentation/yelp_df_1_translated.csv',\n",
    "        'data/augmentation/yelp_df_2_translated.csv',\n",
    "        'data/augmentation/yelp_df_3_translated.csv',\n",
    "        'data/augmentation/yelp_df_4_translated.csv']\n",
    "\n",
    "df = pd.read_csv(files[0])\n",
    "for i in range(1, 4):\n",
    "    df = pd.concat([df, pd.read_csv(files[i])])\n",
    "\n",
    "# reset index\n",
    "df = df.reset_index(drop=True)\n",
    "\n",
    "# save dataframe\n",
    "df.drop(columns=['Unnamed: 0'], inplace=True)\n",
    "df.to_csv('data/yelp_translated.csv', index=False)"
   ]
  },
  {
   "cell_type": "code",
   "execution_count": 10,
   "metadata": {},
   "outputs": [],
   "source": [
    "df = pd.read_csv('data/yelp_translated.csv')"
   ]
  },
  {
   "cell_type": "code",
   "execution_count": 11,
   "metadata": {},
   "outputs": [
    {
     "data": {
      "text/plain": [
       "49919"
      ]
     },
     "execution_count": 11,
     "metadata": {},
     "output_type": "execute_result"
    }
   ],
   "source": [
    "len(df)"
   ]
  },
  {
   "cell_type": "code",
   "execution_count": 12,
   "metadata": {},
   "outputs": [
    {
     "data": {
      "text/html": [
       "<div>\n",
       "<style scoped>\n",
       "    .dataframe tbody tr th:only-of-type {\n",
       "        vertical-align: middle;\n",
       "    }\n",
       "\n",
       "    .dataframe tbody tr th {\n",
       "        vertical-align: top;\n",
       "    }\n",
       "\n",
       "    .dataframe thead th {\n",
       "        text-align: right;\n",
       "    }\n",
       "</style>\n",
       "<table border=\"1\" class=\"dataframe\">\n",
       "  <thead>\n",
       "    <tr style=\"text-align: right;\">\n",
       "      <th></th>\n",
       "      <th>Attraction</th>\n",
       "      <th>Opinion</th>\n",
       "      <th>Polarity</th>\n",
       "      <th>Translation</th>\n",
       "    </tr>\n",
       "  </thead>\n",
       "  <tbody>\n",
       "    <tr>\n",
       "      <th>0</th>\n",
       "      <td>Restaurant</td>\n",
       "      <td>Family diner. Had the buffet. Eclectic assortm...</td>\n",
       "      <td>3.0</td>\n",
       "      <td>Cena familiar. Tenía el buffet. Surtido ecléct...</td>\n",
       "    </tr>\n",
       "    <tr>\n",
       "      <th>1</th>\n",
       "      <td>Restaurant</td>\n",
       "      <td>The bun makes the Sonoran Dog. It's like a snu...</td>\n",
       "      <td>4.0</td>\n",
       "      <td>El bollo lo hace el Perro Sonorense. Es como u...</td>\n",
       "    </tr>\n",
       "    <tr>\n",
       "      <th>2</th>\n",
       "      <td>Restaurant</td>\n",
       "      <td>Yes, this is the only sushi place in town. How...</td>\n",
       "      <td>4.0</td>\n",
       "      <td>Sí, este es el único lugar de sushi en la ciud...</td>\n",
       "    </tr>\n",
       "  </tbody>\n",
       "</table>\n",
       "</div>"
      ],
      "text/plain": [
       "   Attraction                                            Opinion  Polarity  \\\n",
       "0  Restaurant  Family diner. Had the buffet. Eclectic assortm...       3.0   \n",
       "1  Restaurant  The bun makes the Sonoran Dog. It's like a snu...       4.0   \n",
       "2  Restaurant  Yes, this is the only sushi place in town. How...       4.0   \n",
       "\n",
       "                                         Translation  \n",
       "0  Cena familiar. Tenía el buffet. Surtido ecléct...  \n",
       "1  El bollo lo hace el Perro Sonorense. Es como u...  \n",
       "2  Sí, este es el único lugar de sushi en la ciud...  "
      ]
     },
     "execution_count": 12,
     "metadata": {},
     "output_type": "execute_result"
    }
   ],
   "source": [
    "df.head(3)"
   ]
  },
  {
   "cell_type": "code",
   "execution_count": 16,
   "metadata": {},
   "outputs": [
    {
     "data": {
      "text/plain": [
       "(array([5146., 5076., 4687., 3411.]),\n",
       " array([1.  , 1.75, 2.5 , 3.25, 4.  ]),\n",
       " <BarContainer object of 4 artists>)"
      ]
     },
     "execution_count": 16,
     "metadata": {},
     "output_type": "execute_result"
    },
    {
     "data": {
      "image/png": "[encoded data removed]",
      "text/plain": [
       "<Figure size 432x288 with 1 Axes>"
      ]
     },
     "metadata": {},
     "output_type": "display_data"
    }
   ],
   "source": [
    "plt.hist(df[df['Attraction'] == 'Restaurant']['Polarity'], bins=4)"
   ]
  },
  {
   "cell_type": "code",
   "execution_count": 17,
   "metadata": {},
   "outputs": [
    {
     "data": {
      "text/plain": [
       "(array([11264.,  5343.,  5634.,  9358.]),\n",
       " array([1.  , 1.75, 2.5 , 3.25, 4.  ]),\n",
       " <BarContainer object of 4 artists>)"
      ]
     },
     "execution_count": 17,
     "metadata": {},
     "output_type": "execute_result"
    },
    {
     "data": {
      "image/png": "[encoded data removed]",
      "text/plain": [
       "<Figure size 432x288 with 1 Axes>"
      ]
     },
     "metadata": {},
     "output_type": "display_data"
    }
   ],
   "source": [
    "plt.hist(df[df['Attraction'] == 'Hotel']['Polarity'], bins=4)"
   ]
  },
  {
   "cell_type": "code",
   "execution_count": null,
   "metadata": {},
   "outputs": [],
   "source": []
  },
  {
   "cell_type": "code",
   "execution_count": null,
   "metadata": {},
   "outputs": [],
   "source": [
    "data = pd.read_excel('data/train_sentiment_analysis.xlsx')\n",
    "data.head()"
   ]
  },
  {
   "cell_type": "code",
   "execution_count": null,
   "metadata": {},
   "outputs": [],
   "source": [
    "# Merge Title and Opinion columns\n",
    "for i in range(len(data)):\n",
    "    data.loc[i, 'Opinion'] = str(data.loc[i, 'Title']) + '. ' + str(data.loc[i, 'Opinion'])\n",
    "\n",
    "# Drop the Title column\n",
    "data = data.drop(columns=['Title'])\n",
    "\n",
    "# Drop rows with NAN in Opinion column\n",
    "data = data.dropna(subset=['Opinion'])\n",
    "data.head()"
   ]
  },
  {
   "cell_type": "code",
   "execution_count": null,
   "metadata": {},
   "outputs": [],
   "source": [
    "# Save data in CSV file\n",
    "data.to_csv('data/train_data.csv', index=False)"
   ]
  },
  {
   "cell_type": "code",
   "execution_count": 71,
   "metadata": {},
   "outputs": [],
   "source": [
    "# Save augmented data\n",
    "# aug_data.to_csv('data/aug_data.csv', index=False)\n",
    "data2 = pd.read_csv('data/augmentation/yelp_df_augmented.csv')"
   ]
  },
  {
   "cell_type": "code",
   "execution_count": 94,
   "metadata": {},
   "outputs": [
    {
     "data": {
      "image/png": "[encoded data removed]",
      "text/plain": [
       "<Figure size 1200x900 with 1 Axes>"
      ]
     },
     "metadata": {},
     "output_type": "display_data"
    }
   ],
   "source": [
    "fig, ax = plt.subplots(figsize=(4,3))\n",
    "\n",
    "ax.hist(data2['Polarity'], bins=[0.001, 1.001, 2.001, 3.001, 4.001, 5.001], color = '#a2ad59')\n",
    "ax.set_title('Polarity distribution - Yelp data.')\n",
    "ax.set_xlabel('Polarity')\n",
    "ax.set_ylabel('Number of reviews')\n",
    "ax.grid(True)\n",
    "ax.set_xlim([-0.1, 4.1])\n",
    "ax.set_yticks([0, 7000, 14000], [0, '7k', '14k'])\n",
    "ax.set_xticks([0.5, 1.5, 2.5, 3.5], [1, 2, 3, 4])\n",
    "plt.tight_layout()\n",
    "plt.savefig('images/polarity_distribution_yelp.png')"
   ]
  },
  {
   "cell_type": "code",
   "execution_count": 103,
   "metadata": {},
   "outputs": [
    {
     "data": {
      "image/png": "[encoded data removed]",
      "text/plain": [
       "<Figure size 1200x900 with 1 Axes>"
      ]
     },
     "metadata": {},
     "output_type": "display_data"
    }
   ],
   "source": [
    "fig, ax = plt.subplots(figsize=(4,3))\n",
    "x = [np.array(data['Polarity'].values), np.array(data2['Polarity'].values)]\n",
    "\n",
    "ax.hist(x, bins=[0.001, 1.001, 2.001, 3.001, 4.001, 5.001],\n",
    "        color = [ '#f98948', '#a2ad59'], stacked=True)\n",
    "\n",
    "ax.set_title('Polarity distribution - Final data.')\n",
    "ax.set_xlabel('Polarity')\n",
    "ax.set_ylabel('Number of reviews')\n",
    "ax.grid(True)\n",
    "ax.set_yticks([0, 10000, 20000], [0, '10k', '20k'])\n",
    "ax.set_xticks([0.5, 1.5, 2.5, 3.5, 4.5], [1, 2, 3, 4, 5])\n",
    "plt.tight_layout()\n",
    "plt.savefig('images/polarity_distribution_total.png')"
   ]
  },
  {
   "cell_type": "code",
   "execution_count": null,
   "metadata": {},
   "outputs": [],
   "source": []
  }
 ],
 "metadata": {
  "interpreter": {
   "hash": "ae0db2a7f29156f5639b4fc85b59b64440ab0d9df8916869e7c653ad5064eeb8"
  },
  "kernelspec": {
   "display_name": "Python 3.10.2 ('nlp')",
   "language": "python",
   "name": "python3"
  },
  "language_info": {
   "codemirror_mode": {
    "name": "ipython",
    "version": 3
   },
   "file_extension": ".py",
   "mimetype": "text/x-python",
   "name": "python",
   "nbconvert_exporter": "python",
   "pygments_lexer": "ipython3",
   "version": "3.10.2"
  },
  "orig_nbformat": 4
 },
 "nbformat": 4,
 "nbformat_minor": 2
}
